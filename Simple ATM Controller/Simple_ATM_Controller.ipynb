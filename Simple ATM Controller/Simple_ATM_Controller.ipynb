{
  "nbformat": 4,
  "nbformat_minor": 0,
  "metadata": {
    "colab": {
      "name": "Simple ATM Controller.ipynb",
      "provenance": [],
      "collapsed_sections": []
    },
    "kernelspec": {
      "name": "python3",
      "display_name": "Python 3"
    },
    "language_info": {
      "name": "python"
    }
  },
  "cells": [
    {
      "cell_type": "code",
      "execution_count": 75,
      "metadata": {
        "id": "h7DhcTmY80Wp"
      },
      "outputs": [],
      "source": [
        "class Bank:\n",
        "  # Bank should hold follwoing informations \n",
        "  # name, card_number, pin, account, balance \n",
        "\n",
        "  def __init__(self):\n",
        "    self.bank_data = {}\n",
        "\n",
        "  def add_information(self, name, card_num, pin, account, balance):\n",
        "    # add input information to bank_data\n",
        "    self.bank_data[card_num] = {\"name\" : name, \"pin\": pin, \"account\":{account:balance}}\n",
        "\n",
        "  def add_account(self, card_num, account, balance):\n",
        "    # if card number is valid => add the account\n",
        "    if card_num in self.bank_data:\n",
        "      self.bank_data[card_num][\"account\"][account] = balance\n",
        "\n",
        "  def check_pin(self, card_num, input_pin):\n",
        "    # if input_pin is valid => access to according account \n",
        "    if card_num in self.bank_data and self.bank_data[card_num][\"pin\"] == input_pin:\n",
        "      return self.bank_data[card_num][\"account\"]\n",
        "    # else None \n",
        "    else:\n",
        "      return None\n",
        "\n",
        "  \n",
        "  def update_account(self, card_num, account, input_balance):\n",
        "    # if card_num & account is valid => update input_balance \n",
        "    if self.bank_data[card_num][\"account\"][account] in self.bank_data[card_num][\"account\"]:\n",
        "      self.bank_data[card_num][\"account\"] = input_balance\n",
        "      return True\n",
        "    else:\n",
        "      return False\n",
        "\n",
        "class Controller:\n",
        "  # the Controller should be able to do follwoing actions:\n",
        "  # insert card # check pin \n",
        "  # account select \n",
        "  # check balance, deposit, withdraw, # update after balance change \n",
        "\n",
        "  def __init__(self, bank, cash):\n",
        "    self.Bank = bank\n",
        "    self.accounts = None # to put the inserted cart account \n",
        "    self.cash_bin = cash\n",
        "\n",
        "  def insert_card(self, card_num, pin):\n",
        "    # after inserting card => must check pin number \n",
        "    self.accounts = self.Bank.check_pin(card_num, pin)\n",
        "    if self.accounts is None:       # if invalid pin number => access denied\n",
        "      return print(f\"Invalid PIN, access denied. Please enter valid PIN\")\n",
        "    else:        # if valid pin number => welcome with personalized message\n",
        "      return print(f\"Welcome {self.Bank.bank_data[card_num]['name']}\")\n",
        "\n",
        "  def select_account(self, account):\n",
        "    # checking if the selected account is in the card \n",
        "    if account in self.accounts:\n",
        "      return True\n",
        "    else:\n",
        "      return False\n",
        "\n",
        "  def account_actions(self, card_num, account, action, amount=0):\n",
        "    # settin the default amount to zero as there are actions such as checking balance \n",
        "    # actions would be checkling balance, withdrawing, depositing\n",
        "    if action == \"Check Balance\":       # returning account value \n",
        "      return self.accounts[account]\n",
        "    elif action == \"Withdraw\":          # withdrawing the input_amount \n",
        "      if self.accounts[account] >= amount and self.cash_bin >= amount:      # when current balance is bigger than the input amount & cash_bin is bigger than amount \n",
        "        new_balance = self.accounts[account] - amount     # deduct the input_amount\n",
        "        self.accounts[account] = new_balance              # update the account \n",
        "        self.Bank.update_account(card_num, account, new_balance)      # and the amount to the database \n",
        "        return print(f\"Withdraw of {amount} has been processed. Current balance is {self.accounts[account]}\")\n",
        "      else:\n",
        "        return print(f\"Withdraw of {amount} is invalid. Current balance is {self.accounts[account]}\")\n",
        "    elif action == \"Deposit\":           # depositing the input_amount\n",
        "      new_balance = self.accounts[account] + amount       # add the input amount to current account balance\n",
        "      self.cash_bin += amount                             # add the amount to the cash_bin for the future process\n",
        "      self.accounts[account] = new_balance                # update the added balance to the current account\n",
        "      self.Bank.update_account(card_num, account, new_balance)          # and the amount to the database \n",
        "      return print(f\"Deposit of {amount} has been processed. Current balance is {self.accounts[account]}\")\n",
        "    else: # for unavailable actions\n",
        "      return print(f\"Invalid action. Please enter a valid action.\")\n"
      ]
    },
    {
      "cell_type": "code",
      "source": [
        "test_bank = Bank()\n",
        "test_bank.add_information(\"Ho\", 123456789, 1234, \"my_account\", 1000)\n",
        "test_bank.add_account(123456789, \"savings\", 1000)\n",
        "test_bank.add_information(\"Hi\", 987654321, 7321, \"my_account\", 5000)\n",
        "test_atm = Controller(test_bank, 10000)\n",
        "test_atm.insert_card(123456789, 1234)\n",
        "print(test_atm.account_actions(123456789, \"my_account\", \"Check Balance\"))\n",
        "print(test_atm.account_actions(123456789, \"my_account\", \"Withdraw\", 500))\n",
        "print(test_atm.account_actions(123456789, \"my_account\", \"Withdraw\", 1500))\n",
        "print(test_atm.account_actions(123456789, \"my_account\", \"Withdraw\", 1500))\n",
        "print(test_atm.account_actions(123456789, \"my_account\", \"Deposit\", 1500))\n",
        "print(test_atm.account_actions(123456789, \"my_account\", \"BOO\", 1500))"
      ],
      "metadata": {
        "colab": {
          "base_uri": "https://localhost:8080/"
        },
        "id": "DJ-DFf34A8VJ",
        "outputId": "e9e67e54-8dec-4b4c-d644-48dbba0af2f2"
      },
      "execution_count": 76,
      "outputs": [
        {
          "output_type": "stream",
          "name": "stdout",
          "text": [
            "Welcome Ho\n",
            "1000\n",
            "Withdraw of 500 has been processed. Current balance is 500\n",
            "None\n",
            "Withdraw of 1500 is invalid. Current balance is 500\n",
            "None\n",
            "Withdraw of 1500 is invalid. Current balance is 500\n",
            "None\n",
            "Deposit of 1500 has been processed. Current balance is 2000\n",
            "None\n",
            "Invalid action. Please enter a valid action.\n",
            "None\n"
          ]
        }
      ]
    },
    {
      "cell_type": "code",
      "source": [
        "test_bank = Bank()\n",
        "test_bank.add_information(\"trial1\", 123456789, 1234, \"account1\", 1000)\n",
        "test_bank.add_account(123456789, \"account2\", 1000)\n",
        "test_atm = Controller(test_bank, 10000)\n",
        "\n",
        "test_atm.insert_card(123456789, 1234)\n",
        "test_atm.account_actions(123456789, \"account1\", \"Check Balance\")\n",
        "test_atm.account_actions(123456789, \"account1\", \"Withdraw\", 500)\n",
        "test_atm.account_actions(123456789, \"account1\", \"Withdraw\", 1500)\n",
        "test_atm.account_actions(123456789, \"account2\", \"Withdraw\", 1500)\n",
        "test_atm.account_actions(123456789, \"account1\", \"Withdraw\", 1500)\n",
        "test_atm.account_actions(123456789, \"account1\", \"Deposit\", 1500)\n",
        "test_atm.account_actions(123456789, \"account2\", \"Deposit\", 1500)\n",
        "test_atm.account_actions(123456789, \"account1\", \"BOO\", 1500)\n",
        "\n"
      ],
      "metadata": {
        "colab": {
          "base_uri": "https://localhost:8080/"
        },
        "id": "Ndn5gt1YMGZu",
        "outputId": "705c30b3-4f96-4d74-cc66-645b59fd5508"
      },
      "execution_count": 88,
      "outputs": [
        {
          "output_type": "stream",
          "name": "stdout",
          "text": [
            "Welcome trial1\n",
            "Withdraw of 500 has been processed. Current balance is 500\n",
            "Withdraw of 1500 is invalid. Current balance is 500\n",
            "Withdraw of 1500 is invalid. Current balance is 1000\n",
            "Withdraw of 1500 is invalid. Current balance is 500\n",
            "Deposit of 1500 has been processed. Current balance is 2000\n",
            "Deposit of 1500 has been processed. Current balance is 2500\n",
            "Invalid action. Please enter a valid action.\n"
          ]
        }
      ]
    },
    {
      "cell_type": "code",
      "source": [
        "test_bank.add_information(\"trail2\", 987654321, 7321, \"account1\", 5000)\n",
        "test_atm.insert_card(987654321, 1234)\n",
        "test_atm.insert_card(987654321, 7321)\n",
        "test_atm.account_actions(987654321, \"account1\", \"Check Balance\")\n",
        "test_atm.account_actions(987654321, \"account1\", \"Withdraw\", 500)\n",
        "test_atm.account_actions(987654321, \"account1\", \"Withdraw\", 1500)\n",
        "test_atm.account_actions(987654321, \"account1\", \"Deposit\", 1500)\n",
        "test_atm.account_actions(987654321, \"account1\", \"BOO\", 1500)"
      ],
      "metadata": {
        "colab": {
          "base_uri": "https://localhost:8080/"
        },
        "id": "7lzUa4bUBvHh",
        "outputId": "9df6488e-4a02-406b-c251-dda70befe33f"
      },
      "execution_count": 89,
      "outputs": [
        {
          "output_type": "stream",
          "name": "stdout",
          "text": [
            "Invalid PIN, access denied. Please enter valid PIN\n",
            "Welcome trail2\n",
            "Withdraw of 500 has been processed. Current balance is 4500\n",
            "Withdraw of 1500 has been processed. Current balance is 3000\n",
            "Deposit of 1500 has been processed. Current balance is 4500\n",
            "Invalid action. Please enter a valid action.\n"
          ]
        }
      ]
    },
    {
      "cell_type": "code",
      "source": [
        ""
      ],
      "metadata": {
        "id": "bMjAuow7NGhu"
      },
      "execution_count": null,
      "outputs": []
    }
  ]
}