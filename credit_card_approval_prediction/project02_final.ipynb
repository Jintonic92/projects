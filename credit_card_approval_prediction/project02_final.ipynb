{
  "nbformat": 4,
  "nbformat_minor": 0,
  "metadata": {
    "colab": {
      "name": "project02. final",
      "provenance": [],
      "collapsed_sections": []
    },
    "kernelspec": {
      "name": "python3",
      "display_name": "Python 3"
    },
    "language_info": {
      "name": "python"
    }
  },
  "cells": [
    {
      "cell_type": "markdown",
      "metadata": {
        "id": "vN8vCXCPdhxB"
      },
      "source": [
        "**1) 데이터 선정 이유 및 문제 정의**\n",
        "- 데이터 선택 이유\n",
        "- 분류/회귀 check \n",
        "\n",
        "**2) 데이터를 이용한 가설 및 평가지표, 베이스라인 선택**\n",
        "- 가설 \n",
        "- target으로 선정 이유\n",
        "- 베이스라인 모델과 평가지표 선택 이유\n",
        "\n",
        "**3) EDA와 데이터 전처리**\n",
        "- 데이터의 탐색 및 가공\n",
        "- EDA\n",
        "- Feature Engineering\n",
        "- 데이터의 정규화\n",
        "- 노이즈 제거\n",
        "- 결측치 제거 혹은 대체\n",
        "- 데이터 밸런스\n",
        "- Data Leakage확인 및 처리\n",
        "- 모델의 유용성, 한계점\n",
        "\n",
        "**4) 머신러닝 방식 적용 및 교차검증**\n",
        "- 모델링과 베이스라인 성능 비교\n",
        "-  Linear / Tree-based / Ensemble 모델을 학습 (다양하게 시도 ㅊㅊ)\n",
        "- 평가지표 베이스라인과 비교\n",
        "- 교차 검증 통해 일반화될 가능성 확인\n",
        "- 모델 성능을 개선\n",
        "o Hyperparameter tuning, etc.\n",
        "- 최소 2개 이상의 모델을 만들어서 validation 점수를 보고\n",
        "- 최종 모델의 test 점수를 보고하세요.\n",
        "-  모델을 학습한 후에 베이스라인보다 잘 나왔나요? 그렇지 않다면 그 이유는 무엇일까요?\n",
        "- 모델 성능 개선을 위해 어떤 방법을 적용했나요? 그 방법을 선택한 이유는 무엇인가요?\n",
        "- 최종 모델에 관해 설명하세요.\n",
        "\n",
        "**5) 머신러닝 모델 해석**\n",
        "- SHAP, PDP 등을 통해서 모델이 관측치를 어떤 특성을 활용했거나, 어떤 특성이 타겟에 영향을 끼쳤는지 등을 해석\n",
        "- PDP, SHAP을 활용하여 최종 모델을 설명\n",
        "- 시각화는 \"설명\"이 제일 중요합니다.\n",
        "- 모델이 관측치를 예측하기 위해서 어떤 특성을 활용?\n",
        "- 어떤 특성이 있다면 모델의 예측에 도움? 해당 특성은 어떻게 구할 수 있을까?\n"
      ]
    },
    {
      "cell_type": "markdown",
      "metadata": {
        "id": "9Z7-mjIimZLj"
      },
      "source": [
        "\n",
        "**1) 데이터 선정 이유 및 문제 정의**\n",
        "\n",
        "1. 데이터 선택 이유\n",
        "2. 분류/회귀 check"
      ]
    },
    {
      "cell_type": "code",
      "metadata": {
        "colab": {
          "base_uri": "https://localhost:8080/"
        },
        "id": "7KKjUpr5J4I1",
        "outputId": "ce9b6fb0-ac6c-413f-9f68-57062cb00769"
      },
      "source": [
        "# 1) 데이터 선정 이유 및 문제 정의\n",
        "# 1.데이터 선택 이유 : application(신청자)의 신용카드 신청이 Approved/Denied 예측\n",
        "# 2.Target : Good/Bad customers 이기에 분류 문제 \n",
        "\n",
        "from google.colab import drive\n",
        "drive.mount('/content/drive')\n",
        "\n",
        "import pandas as pd\n",
        "application = pd.read_csv('/content/drive/MyDrive/Codestates AI06/project02/archive/application_record.csv')\n",
        "credit = pd.read_csv('/content/drive/MyDrive/Codestates AI06/project02/archive/credit_record.csv')\n"
      ],
      "execution_count": null,
      "outputs": [
        {
          "output_type": "stream",
          "name": "stdout",
          "text": [
            "Mounted at /content/drive\n"
          ]
        }
      ]
    },
    {
      "cell_type": "code",
      "metadata": {
        "id": "nuy0PfcnSFSy",
        "colab": {
          "base_uri": "https://localhost:8080/",
          "height": 236
        },
        "outputId": "993754e3-682d-4dbb-cb17-5d2aaf64e103"
      },
      "source": [
        "# 1-1) Data Description \n",
        "'''\n",
        "application.columns\n",
        "\n",
        "'ID': Client Number\n",
        "'CODE_GENDER': Gender \n",
        "'FLAG_OWN_CAR': Car own\n",
        "'FLAG_OWN_REALTY': Property own\n",
        "'CNT_CHILDREN': Number of Children\n",
        "'AMT_INCOME_TOTAL': Annual Income\n",
        "'NAME_INCOME_TYPE': Income Category\n",
        "'NAME_EDUCATION_TYPE': Edcuation Level\n",
        "'NAME_FAMILY_STATUS': Maritial Status\n",
        "'NAME_HOUSING_TYPE': Way of Living\n",
        "'DAYS_BIRTH': Birthday(Count backwards from current day eg. 01 means yday)\n",
        "'DAYS_EMPLOYED': Start date of employment (as above, if positive currently unemplyed) \n",
        "'FLAG_MOBIL': Mobile phone own \n",
        "'FLAG_WORK_PHONE': Work phone own\n",
        "'FLAG_PHONE': Phone own\n",
        "'FLAG_EMAIL': Email own\n",
        "'OCCUPATION_TYPE': Occupation \n",
        "'CNT_FAM_MEMBERS': Family size \n",
        "\n",
        "\n",
        "credit.columns\n",
        "\n",
        "'ID': Client Number\n",
        "'MONTHS_BALANCE': Record month, \n",
        "the month of the extracted data is the starting point backwards, \n",
        "0 is the current month, -1 is the previous month, and so on\n",
        "'STATUS': Status,\n",
        "C: paid off that month \n",
        "X: No loan for the month \n",
        "0: 1-29days past due\n",
        "1: 30-59days past due\n",
        "2: 60-89days overdue\n",
        "3: 90-119days overdue\n",
        "4: 120-149 days overdue\n",
        "5: Overdue or bad debts\n",
        "write-offs for more than 150days \n",
        "\n",
        "'''"
      ],
      "execution_count": null,
      "outputs": [
        {
          "output_type": "execute_result",
          "data": {
            "application/vnd.google.colaboratory.intrinsic+json": {
              "type": "string"
            },
            "text/plain": [
              "\"\\napplication.columns\\n\\n'ID': Client Number\\n'CODE_GENDER': Gender \\n'FLAG_OWN_CAR': Car own\\n'FLAG_OWN_REALTY': Property own\\n'CNT_CHILDREN': Number of Children\\n'AMT_INCOME_TOTAL': Annual Income\\n'NAME_INCOME_TYPE': Income Category\\n'NAME_EDUCATION_TYPE': Edcuation Level\\n'NAME_FAMILY_STATUS': Maritial Status\\n'NAME_HOUSING_TYPE': Way of Living\\n'DAYS_BIRTH': Birthday(Count backwards from current day eg. 01 means yday)\\n'DAYS_EMPLOYED': Start date of employment (as above, if positive currently unemplyed) \\n'FLAG_MOBIL': Mobile phone own \\n'FLAG_WORK_PHONE': Work phone own\\n'FLAG_PHONE': Phone own\\n'FLAG_EMAIL': Email own\\n'OCCUPATION_TYPE': Occupation \\n'CNT_FAM_MEMBERS': Family size \\n\\n\\ncredit.columns\\n\\n'ID': Client Number\\n'MONTHS_BALANCE': Record month, \\nthe month of the extracted data is the starting point backwards, \\n0 is the current month, -1 is the previous month, and so on\\n'STATUS': Status,\\n0: 1-29days past due\\n1: 30-59days past due\\n2: 60-89days overdue\\n3: 90-119days overdue\\n4: 120-149 days overdue\\n5: Overdue or bad debts\\nwrite-offs for more than 150days \\nC: paid off that month \\nX: No loan for the month \\n\""
            ]
          },
          "metadata": {},
          "execution_count": 2
        }
      ]
    },
    {
      "cell_type": "code",
      "metadata": {
        "id": "9onS64RadyKH"
      },
      "source": [
        ""
      ],
      "execution_count": null,
      "outputs": []
    },
    {
      "cell_type": "code",
      "metadata": {
        "colab": {
          "base_uri": "https://localhost:8080/"
        },
        "id": "D9iK7RLtxn_O",
        "outputId": "80708bee-7651-4dce-b8e2-1245a146ea28"
      },
      "source": [
        "# 1-2) Application, Record 데이터 기본 정보 정리\n",
        "print(\"Application data set shape:\", application.shape)\n",
        "print(\"Credit Record data set shape:\", credit.shape)"
      ],
      "execution_count": null,
      "outputs": [
        {
          "output_type": "stream",
          "name": "stdout",
          "text": [
            "Application data set shape: (438557, 18)\n",
            "Credit Record data set shape: (1048575, 3)\n"
          ]
        }
      ]
    },
    {
      "cell_type": "code",
      "metadata": {
        "colab": {
          "base_uri": "https://localhost:8080/"
        },
        "id": "-jWIndDqpTbd",
        "outputId": "e46d4aff-d2b7-4d48-b862-81d36e6440ff"
      },
      "source": [
        "# 데이터 전전처리\n",
        "# Customer Good/Bad 기준 잡기 및 전처리 \n",
        "\n",
        "credit['STATUS'].value_counts()"
      ],
      "execution_count": null,
      "outputs": [
        {
          "output_type": "execute_result",
          "data": {
            "text/plain": [
              "C    442031\n",
              "0    383120\n",
              "X    209230\n",
              "1     11090\n",
              "5      1693\n",
              "2       868\n",
              "3       320\n",
              "4       223\n",
              "Name: STATUS, dtype: int64"
            ]
          },
          "metadata": {},
          "execution_count": 4
        }
      ]
    },
    {
      "cell_type": "code",
      "metadata": {
        "id": "HJcbe1SHpj-4"
      },
      "source": [
        "# Good Client = 0 , Bad Clinet = 1\n",
        "\n",
        "'''\n",
        "\n",
        "1.2 Credit record\n",
        "This is a csv file with credit record for a part of ID in application record. We can treat it a file to generate labels for modeling. For the applicants who have a record more than 59 past due, they should be rejected.\n",
        "기준표 \n",
        "C: paid off that month \n",
        "X: No loan for the month \n",
        "0: 1-29days past due\n",
        "\n",
        "\n",
        "C, X, 0은 1달 이내로 대출상환한 고객이라, Good Client(0)로 분류 \n",
        "\n",
        "1: 30-59days past due\n",
        "2: 60-89days overdue\n",
        "3: 90-119days overdue\n",
        "4: 120-149 days overdue\n",
        "5: Overdue or bad debts\n",
        "write-offs for more than 150days \n",
        "\n",
        "그 외의 1, 2, 3, 4, 5은 1달 이상 연체된 고객이라, Bad Client(1)으로 분류\n",
        "\n",
        "'''\n",
        "\n",
        "\n",
        "credit['STATUS'].replace(['C', 'X'], 0, inplace=True)\n",
        "credit['STATUS'].replace(['1', '2', '3', '4', '5'], 1, inplace=True)\n",
        "credit['STATUS'] = credit['STATUS'].astype('int')"
      ],
      "execution_count": null,
      "outputs": []
    },
    {
      "cell_type": "code",
      "metadata": {
        "colab": {
          "base_uri": "https://localhost:8080/"
        },
        "id": "7F30GKoSqdAE",
        "outputId": "5d908a47-1c10-4069-c005-d9e808c3124e"
      },
      "source": [
        "credit['STATUS'].value_counts(normalize=True)*100\n",
        "\n",
        "##불균형 데이터인 것 재확인 "
      ],
      "execution_count": null,
      "outputs": [
        {
          "output_type": "execute_result",
          "data": {
            "text/plain": [
              "0    98.646353\n",
              "1     1.353647\n",
              "Name: STATUS, dtype: float64"
            ]
          },
          "metadata": {},
          "execution_count": 6
        }
      ]
    },
    {
      "cell_type": "code",
      "metadata": {
        "id": "0oDPjP8CxCKu"
      },
      "source": [
        "#credit_trans =credit.groupby('ID').agg(max).reset_index()"
      ],
      "execution_count": null,
      "outputs": []
    },
    {
      "cell_type": "code",
      "metadata": {
        "id": "yGeSW4lU6shH"
      },
      "source": [
        "#credit_trans['STATUS'].value_counts(normalize=True)*100"
      ],
      "execution_count": null,
      "outputs": []
    },
    {
      "cell_type": "markdown",
      "metadata": {
        "id": "HZ28wqzrooOf"
      },
      "source": [
        "**2) 데이터를 이용한 가설 및 평가지표, 베이스라인 선택**\n",
        "\n",
        "1. 가설\n",
        "2. target으로 선정 이유\n",
        "3. 베이스라인 모델과 평가지표 선택 이유"
      ]
    },
    {
      "cell_type": "code",
      "metadata": {
        "id": "u_7Mj_RiokNh"
      },
      "source": [
        ""
      ],
      "execution_count": null,
      "outputs": []
    },
    {
      "cell_type": "markdown",
      "metadata": {
        "id": "uZigzulZyM5-"
      },
      "source": [
        "**3) EDA와 데이터 전처리**\n",
        "- 데이터의 탐색 및 가공\n",
        "- EDA\n",
        "- Feature Engineering\n",
        "- 데이터의 정규화\n",
        "- 노이즈 제거\n",
        "- 결측치 제거 혹은 대체\n",
        "- 데이터 밸런스\n",
        "- Data Leakage확인 및 처리\n",
        "- 모델의 유용성, 한계점"
      ]
    },
    {
      "cell_type": "code",
      "metadata": {
        "colab": {
          "base_uri": "https://localhost:8080/"
        },
        "id": "5ZM_rqiBzuQb",
        "outputId": "ec9134f2-a2e1-47a5-f071-6eaefebf9c53"
      },
      "source": [
        "# Record, Applicant 'ID'베이스로 합치기\n",
        "df = pd.merge(application, credit, on='ID', how='inner')\n",
        "df.shape"
      ],
      "execution_count": null,
      "outputs": [
        {
          "output_type": "execute_result",
          "data": {
            "text/plain": [
              "(777715, 20)"
            ]
          },
          "metadata": {},
          "execution_count": 9
        }
      ]
    },
    {
      "cell_type": "code",
      "metadata": {
        "colab": {
          "base_uri": "https://localhost:8080/",
          "height": 222
        },
        "id": "o8zC6uET97S1",
        "outputId": "5a927fc8-d242-4137-b5b2-faf06b4947a6"
      },
      "source": [
        "df.head()"
      ],
      "execution_count": null,
      "outputs": [
        {
          "output_type": "execute_result",
          "data": {
            "text/html": [
              "<div>\n",
              "<style scoped>\n",
              "    .dataframe tbody tr th:only-of-type {\n",
              "        vertical-align: middle;\n",
              "    }\n",
              "\n",
              "    .dataframe tbody tr th {\n",
              "        vertical-align: top;\n",
              "    }\n",
              "\n",
              "    .dataframe thead th {\n",
              "        text-align: right;\n",
              "    }\n",
              "</style>\n",
              "<table border=\"1\" class=\"dataframe\">\n",
              "  <thead>\n",
              "    <tr style=\"text-align: right;\">\n",
              "      <th></th>\n",
              "      <th>ID</th>\n",
              "      <th>CODE_GENDER</th>\n",
              "      <th>FLAG_OWN_CAR</th>\n",
              "      <th>FLAG_OWN_REALTY</th>\n",
              "      <th>CNT_CHILDREN</th>\n",
              "      <th>AMT_INCOME_TOTAL</th>\n",
              "      <th>NAME_INCOME_TYPE</th>\n",
              "      <th>NAME_EDUCATION_TYPE</th>\n",
              "      <th>NAME_FAMILY_STATUS</th>\n",
              "      <th>NAME_HOUSING_TYPE</th>\n",
              "      <th>DAYS_BIRTH</th>\n",
              "      <th>DAYS_EMPLOYED</th>\n",
              "      <th>FLAG_MOBIL</th>\n",
              "      <th>FLAG_WORK_PHONE</th>\n",
              "      <th>FLAG_PHONE</th>\n",
              "      <th>FLAG_EMAIL</th>\n",
              "      <th>OCCUPATION_TYPE</th>\n",
              "      <th>CNT_FAM_MEMBERS</th>\n",
              "      <th>MONTHS_BALANCE</th>\n",
              "      <th>STATUS</th>\n",
              "    </tr>\n",
              "  </thead>\n",
              "  <tbody>\n",
              "    <tr>\n",
              "      <th>0</th>\n",
              "      <td>5008804</td>\n",
              "      <td>M</td>\n",
              "      <td>Y</td>\n",
              "      <td>Y</td>\n",
              "      <td>0</td>\n",
              "      <td>427500.0</td>\n",
              "      <td>Working</td>\n",
              "      <td>Higher education</td>\n",
              "      <td>Civil marriage</td>\n",
              "      <td>Rented apartment</td>\n",
              "      <td>-12005</td>\n",
              "      <td>-4542</td>\n",
              "      <td>1</td>\n",
              "      <td>1</td>\n",
              "      <td>0</td>\n",
              "      <td>0</td>\n",
              "      <td>NaN</td>\n",
              "      <td>2.0</td>\n",
              "      <td>0</td>\n",
              "      <td>0</td>\n",
              "    </tr>\n",
              "    <tr>\n",
              "      <th>1</th>\n",
              "      <td>5008804</td>\n",
              "      <td>M</td>\n",
              "      <td>Y</td>\n",
              "      <td>Y</td>\n",
              "      <td>0</td>\n",
              "      <td>427500.0</td>\n",
              "      <td>Working</td>\n",
              "      <td>Higher education</td>\n",
              "      <td>Civil marriage</td>\n",
              "      <td>Rented apartment</td>\n",
              "      <td>-12005</td>\n",
              "      <td>-4542</td>\n",
              "      <td>1</td>\n",
              "      <td>1</td>\n",
              "      <td>0</td>\n",
              "      <td>0</td>\n",
              "      <td>NaN</td>\n",
              "      <td>2.0</td>\n",
              "      <td>-1</td>\n",
              "      <td>0</td>\n",
              "    </tr>\n",
              "    <tr>\n",
              "      <th>2</th>\n",
              "      <td>5008804</td>\n",
              "      <td>M</td>\n",
              "      <td>Y</td>\n",
              "      <td>Y</td>\n",
              "      <td>0</td>\n",
              "      <td>427500.0</td>\n",
              "      <td>Working</td>\n",
              "      <td>Higher education</td>\n",
              "      <td>Civil marriage</td>\n",
              "      <td>Rented apartment</td>\n",
              "      <td>-12005</td>\n",
              "      <td>-4542</td>\n",
              "      <td>1</td>\n",
              "      <td>1</td>\n",
              "      <td>0</td>\n",
              "      <td>0</td>\n",
              "      <td>NaN</td>\n",
              "      <td>2.0</td>\n",
              "      <td>-2</td>\n",
              "      <td>0</td>\n",
              "    </tr>\n",
              "    <tr>\n",
              "      <th>3</th>\n",
              "      <td>5008804</td>\n",
              "      <td>M</td>\n",
              "      <td>Y</td>\n",
              "      <td>Y</td>\n",
              "      <td>0</td>\n",
              "      <td>427500.0</td>\n",
              "      <td>Working</td>\n",
              "      <td>Higher education</td>\n",
              "      <td>Civil marriage</td>\n",
              "      <td>Rented apartment</td>\n",
              "      <td>-12005</td>\n",
              "      <td>-4542</td>\n",
              "      <td>1</td>\n",
              "      <td>1</td>\n",
              "      <td>0</td>\n",
              "      <td>0</td>\n",
              "      <td>NaN</td>\n",
              "      <td>2.0</td>\n",
              "      <td>-3</td>\n",
              "      <td>0</td>\n",
              "    </tr>\n",
              "    <tr>\n",
              "      <th>4</th>\n",
              "      <td>5008804</td>\n",
              "      <td>M</td>\n",
              "      <td>Y</td>\n",
              "      <td>Y</td>\n",
              "      <td>0</td>\n",
              "      <td>427500.0</td>\n",
              "      <td>Working</td>\n",
              "      <td>Higher education</td>\n",
              "      <td>Civil marriage</td>\n",
              "      <td>Rented apartment</td>\n",
              "      <td>-12005</td>\n",
              "      <td>-4542</td>\n",
              "      <td>1</td>\n",
              "      <td>1</td>\n",
              "      <td>0</td>\n",
              "      <td>0</td>\n",
              "      <td>NaN</td>\n",
              "      <td>2.0</td>\n",
              "      <td>-4</td>\n",
              "      <td>0</td>\n",
              "    </tr>\n",
              "  </tbody>\n",
              "</table>\n",
              "</div>"
            ],
            "text/plain": [
              "        ID CODE_GENDER FLAG_OWN_CAR  ... CNT_FAM_MEMBERS  MONTHS_BALANCE  STATUS\n",
              "0  5008804           M            Y  ...             2.0               0       0\n",
              "1  5008804           M            Y  ...             2.0              -1       0\n",
              "2  5008804           M            Y  ...             2.0              -2       0\n",
              "3  5008804           M            Y  ...             2.0              -3       0\n",
              "4  5008804           M            Y  ...             2.0              -4       0\n",
              "\n",
              "[5 rows x 20 columns]"
            ]
          },
          "metadata": {},
          "execution_count": 10
        }
      ]
    },
    {
      "cell_type": "code",
      "metadata": {
        "colab": {
          "base_uri": "https://localhost:8080/",
          "height": 289
        },
        "id": "iSA20dQz9Hm8",
        "outputId": "4987c8da-4fdd-4266-b76a-7a013ff6beb7"
      },
      "source": [
        "# 중복 처리 \n",
        "df = df.drop_duplicates(subset='ID', keep ='first', inplace = False)\n",
        "\n",
        "df.reset_index(drop=True, inplace=True)\n",
        "print(df.shape)\n",
        "df.head()"
      ],
      "execution_count": null,
      "outputs": [
        {
          "output_type": "stream",
          "name": "stdout",
          "text": [
            "(36457, 20)\n"
          ]
        },
        {
          "output_type": "execute_result",
          "data": {
            "text/html": [
              "<div>\n",
              "<style scoped>\n",
              "    .dataframe tbody tr th:only-of-type {\n",
              "        vertical-align: middle;\n",
              "    }\n",
              "\n",
              "    .dataframe tbody tr th {\n",
              "        vertical-align: top;\n",
              "    }\n",
              "\n",
              "    .dataframe thead th {\n",
              "        text-align: right;\n",
              "    }\n",
              "</style>\n",
              "<table border=\"1\" class=\"dataframe\">\n",
              "  <thead>\n",
              "    <tr style=\"text-align: right;\">\n",
              "      <th></th>\n",
              "      <th>ID</th>\n",
              "      <th>CODE_GENDER</th>\n",
              "      <th>FLAG_OWN_CAR</th>\n",
              "      <th>FLAG_OWN_REALTY</th>\n",
              "      <th>CNT_CHILDREN</th>\n",
              "      <th>AMT_INCOME_TOTAL</th>\n",
              "      <th>NAME_INCOME_TYPE</th>\n",
              "      <th>NAME_EDUCATION_TYPE</th>\n",
              "      <th>NAME_FAMILY_STATUS</th>\n",
              "      <th>NAME_HOUSING_TYPE</th>\n",
              "      <th>DAYS_BIRTH</th>\n",
              "      <th>DAYS_EMPLOYED</th>\n",
              "      <th>FLAG_MOBIL</th>\n",
              "      <th>FLAG_WORK_PHONE</th>\n",
              "      <th>FLAG_PHONE</th>\n",
              "      <th>FLAG_EMAIL</th>\n",
              "      <th>OCCUPATION_TYPE</th>\n",
              "      <th>CNT_FAM_MEMBERS</th>\n",
              "      <th>MONTHS_BALANCE</th>\n",
              "      <th>STATUS</th>\n",
              "    </tr>\n",
              "  </thead>\n",
              "  <tbody>\n",
              "    <tr>\n",
              "      <th>0</th>\n",
              "      <td>5008804</td>\n",
              "      <td>M</td>\n",
              "      <td>Y</td>\n",
              "      <td>Y</td>\n",
              "      <td>0</td>\n",
              "      <td>427500.0</td>\n",
              "      <td>Working</td>\n",
              "      <td>Higher education</td>\n",
              "      <td>Civil marriage</td>\n",
              "      <td>Rented apartment</td>\n",
              "      <td>-12005</td>\n",
              "      <td>-4542</td>\n",
              "      <td>1</td>\n",
              "      <td>1</td>\n",
              "      <td>0</td>\n",
              "      <td>0</td>\n",
              "      <td>NaN</td>\n",
              "      <td>2.0</td>\n",
              "      <td>0</td>\n",
              "      <td>0</td>\n",
              "    </tr>\n",
              "    <tr>\n",
              "      <th>1</th>\n",
              "      <td>5008805</td>\n",
              "      <td>M</td>\n",
              "      <td>Y</td>\n",
              "      <td>Y</td>\n",
              "      <td>0</td>\n",
              "      <td>427500.0</td>\n",
              "      <td>Working</td>\n",
              "      <td>Higher education</td>\n",
              "      <td>Civil marriage</td>\n",
              "      <td>Rented apartment</td>\n",
              "      <td>-12005</td>\n",
              "      <td>-4542</td>\n",
              "      <td>1</td>\n",
              "      <td>1</td>\n",
              "      <td>0</td>\n",
              "      <td>0</td>\n",
              "      <td>NaN</td>\n",
              "      <td>2.0</td>\n",
              "      <td>0</td>\n",
              "      <td>0</td>\n",
              "    </tr>\n",
              "    <tr>\n",
              "      <th>2</th>\n",
              "      <td>5008806</td>\n",
              "      <td>M</td>\n",
              "      <td>Y</td>\n",
              "      <td>Y</td>\n",
              "      <td>0</td>\n",
              "      <td>112500.0</td>\n",
              "      <td>Working</td>\n",
              "      <td>Secondary / secondary special</td>\n",
              "      <td>Married</td>\n",
              "      <td>House / apartment</td>\n",
              "      <td>-21474</td>\n",
              "      <td>-1134</td>\n",
              "      <td>1</td>\n",
              "      <td>0</td>\n",
              "      <td>0</td>\n",
              "      <td>0</td>\n",
              "      <td>Security staff</td>\n",
              "      <td>2.0</td>\n",
              "      <td>0</td>\n",
              "      <td>0</td>\n",
              "    </tr>\n",
              "    <tr>\n",
              "      <th>3</th>\n",
              "      <td>5008808</td>\n",
              "      <td>F</td>\n",
              "      <td>N</td>\n",
              "      <td>Y</td>\n",
              "      <td>0</td>\n",
              "      <td>270000.0</td>\n",
              "      <td>Commercial associate</td>\n",
              "      <td>Secondary / secondary special</td>\n",
              "      <td>Single / not married</td>\n",
              "      <td>House / apartment</td>\n",
              "      <td>-19110</td>\n",
              "      <td>-3051</td>\n",
              "      <td>1</td>\n",
              "      <td>0</td>\n",
              "      <td>1</td>\n",
              "      <td>1</td>\n",
              "      <td>Sales staff</td>\n",
              "      <td>1.0</td>\n",
              "      <td>0</td>\n",
              "      <td>0</td>\n",
              "    </tr>\n",
              "    <tr>\n",
              "      <th>4</th>\n",
              "      <td>5008809</td>\n",
              "      <td>F</td>\n",
              "      <td>N</td>\n",
              "      <td>Y</td>\n",
              "      <td>0</td>\n",
              "      <td>270000.0</td>\n",
              "      <td>Commercial associate</td>\n",
              "      <td>Secondary / secondary special</td>\n",
              "      <td>Single / not married</td>\n",
              "      <td>House / apartment</td>\n",
              "      <td>-19110</td>\n",
              "      <td>-3051</td>\n",
              "      <td>1</td>\n",
              "      <td>0</td>\n",
              "      <td>1</td>\n",
              "      <td>1</td>\n",
              "      <td>Sales staff</td>\n",
              "      <td>1.0</td>\n",
              "      <td>-22</td>\n",
              "      <td>0</td>\n",
              "    </tr>\n",
              "  </tbody>\n",
              "</table>\n",
              "</div>"
            ],
            "text/plain": [
              "        ID CODE_GENDER FLAG_OWN_CAR  ... CNT_FAM_MEMBERS  MONTHS_BALANCE  STATUS\n",
              "0  5008804           M            Y  ...             2.0               0       0\n",
              "1  5008805           M            Y  ...             2.0               0       0\n",
              "2  5008806           M            Y  ...             2.0               0       0\n",
              "3  5008808           F            N  ...             1.0               0       0\n",
              "4  5008809           F            N  ...             1.0             -22       0\n",
              "\n",
              "[5 rows x 20 columns]"
            ]
          },
          "metadata": {},
          "execution_count": 11
        }
      ]
    },
    {
      "cell_type": "code",
      "metadata": {
        "id": "c4aaShGJ0iuf",
        "colab": {
          "base_uri": "https://localhost:8080/",
          "height": 52
        },
        "outputId": "bf7843d0-f02b-400d-d77d-0731c7426afd"
      },
      "source": [
        "'''\n",
        "!pip install pandas-profiling==2.7.1\n",
        "from pandas_profiling import ProfileReport\n",
        " \n",
        "profile = ProfileReport(df)\n",
        "profile\n",
        "'''"
      ],
      "execution_count": null,
      "outputs": [
        {
          "output_type": "execute_result",
          "data": {
            "application/vnd.google.colaboratory.intrinsic+json": {
              "type": "string"
            },
            "text/plain": [
              "'\\n!pip install pandas-profiling==2.7.1\\nfrom pandas_profiling import ProfileReport\\n \\nprofile = ProfileReport(df)\\nprofile\\n'"
            ]
          },
          "metadata": {},
          "execution_count": 12
        }
      ]
    },
    {
      "cell_type": "code",
      "metadata": {
        "id": "-fmutJPW33fy"
      },
      "source": [
        "#profiling 결과 \n",
        "#FLAG_MOBIL has constant value \"1\"\t=> drop \n",
        "#OCCUPATION_TYPE has 240048 (30.9%) missing values => 파고들기 \n",
        "#CNT_CHILDREN has 540639 (69.5%) zeros => 값 0 \n",
        "#MONTHS_BALANCE has 24672 (3.2%) zeros => 값 0 "
      ],
      "execution_count": null,
      "outputs": []
    },
    {
      "cell_type": "code",
      "metadata": {
        "colab": {
          "base_uri": "https://localhost:8080/"
        },
        "id": "Qa1_XazF4KS-",
        "outputId": "31484d52-5747-41c6-cb76-4dfba154151f"
      },
      "source": [
        "df.columns"
      ],
      "execution_count": null,
      "outputs": [
        {
          "output_type": "execute_result",
          "data": {
            "text/plain": [
              "Index(['ID', 'CODE_GENDER', 'FLAG_OWN_CAR', 'FLAG_OWN_REALTY', 'CNT_CHILDREN',\n",
              "       'AMT_INCOME_TOTAL', 'NAME_INCOME_TYPE', 'NAME_EDUCATION_TYPE',\n",
              "       'NAME_FAMILY_STATUS', 'NAME_HOUSING_TYPE', 'DAYS_BIRTH',\n",
              "       'DAYS_EMPLOYED', 'FLAG_MOBIL', 'FLAG_WORK_PHONE', 'FLAG_PHONE',\n",
              "       'FLAG_EMAIL', 'OCCUPATION_TYPE', 'CNT_FAM_MEMBERS', 'MONTHS_BALANCE',\n",
              "       'STATUS'],\n",
              "      dtype='object')"
            ]
          },
          "metadata": {},
          "execution_count": 14
        }
      ]
    },
    {
      "cell_type": "code",
      "metadata": {
        "id": "8Ws9wXtL4Qz3"
      },
      "source": [
        "#FLAG_MOBIL has constant value \"1\"\t=> drop \n",
        "df = df.drop(columns='FLAG_MOBIL')"
      ],
      "execution_count": null,
      "outputs": []
    },
    {
      "cell_type": "code",
      "metadata": {
        "colab": {
          "base_uri": "https://localhost:8080/",
          "height": 272
        },
        "id": "-tUwSbx746GJ",
        "outputId": "81360a17-2ce8-4e7f-d735-296d0dc4576b"
      },
      "source": [
        "df.head()"
      ],
      "execution_count": null,
      "outputs": [
        {
          "output_type": "execute_result",
          "data": {
            "text/html": [
              "<div>\n",
              "<style scoped>\n",
              "    .dataframe tbody tr th:only-of-type {\n",
              "        vertical-align: middle;\n",
              "    }\n",
              "\n",
              "    .dataframe tbody tr th {\n",
              "        vertical-align: top;\n",
              "    }\n",
              "\n",
              "    .dataframe thead th {\n",
              "        text-align: right;\n",
              "    }\n",
              "</style>\n",
              "<table border=\"1\" class=\"dataframe\">\n",
              "  <thead>\n",
              "    <tr style=\"text-align: right;\">\n",
              "      <th></th>\n",
              "      <th>ID</th>\n",
              "      <th>CODE_GENDER</th>\n",
              "      <th>FLAG_OWN_CAR</th>\n",
              "      <th>FLAG_OWN_REALTY</th>\n",
              "      <th>CNT_CHILDREN</th>\n",
              "      <th>AMT_INCOME_TOTAL</th>\n",
              "      <th>NAME_INCOME_TYPE</th>\n",
              "      <th>NAME_EDUCATION_TYPE</th>\n",
              "      <th>NAME_FAMILY_STATUS</th>\n",
              "      <th>NAME_HOUSING_TYPE</th>\n",
              "      <th>DAYS_BIRTH</th>\n",
              "      <th>DAYS_EMPLOYED</th>\n",
              "      <th>FLAG_WORK_PHONE</th>\n",
              "      <th>FLAG_PHONE</th>\n",
              "      <th>FLAG_EMAIL</th>\n",
              "      <th>OCCUPATION_TYPE</th>\n",
              "      <th>CNT_FAM_MEMBERS</th>\n",
              "      <th>MONTHS_BALANCE</th>\n",
              "      <th>STATUS</th>\n",
              "    </tr>\n",
              "  </thead>\n",
              "  <tbody>\n",
              "    <tr>\n",
              "      <th>0</th>\n",
              "      <td>5008804</td>\n",
              "      <td>M</td>\n",
              "      <td>Y</td>\n",
              "      <td>Y</td>\n",
              "      <td>0</td>\n",
              "      <td>427500.0</td>\n",
              "      <td>Working</td>\n",
              "      <td>Higher education</td>\n",
              "      <td>Civil marriage</td>\n",
              "      <td>Rented apartment</td>\n",
              "      <td>-12005</td>\n",
              "      <td>-4542</td>\n",
              "      <td>1</td>\n",
              "      <td>0</td>\n",
              "      <td>0</td>\n",
              "      <td>NaN</td>\n",
              "      <td>2.0</td>\n",
              "      <td>0</td>\n",
              "      <td>0</td>\n",
              "    </tr>\n",
              "    <tr>\n",
              "      <th>1</th>\n",
              "      <td>5008805</td>\n",
              "      <td>M</td>\n",
              "      <td>Y</td>\n",
              "      <td>Y</td>\n",
              "      <td>0</td>\n",
              "      <td>427500.0</td>\n",
              "      <td>Working</td>\n",
              "      <td>Higher education</td>\n",
              "      <td>Civil marriage</td>\n",
              "      <td>Rented apartment</td>\n",
              "      <td>-12005</td>\n",
              "      <td>-4542</td>\n",
              "      <td>1</td>\n",
              "      <td>0</td>\n",
              "      <td>0</td>\n",
              "      <td>NaN</td>\n",
              "      <td>2.0</td>\n",
              "      <td>0</td>\n",
              "      <td>0</td>\n",
              "    </tr>\n",
              "    <tr>\n",
              "      <th>2</th>\n",
              "      <td>5008806</td>\n",
              "      <td>M</td>\n",
              "      <td>Y</td>\n",
              "      <td>Y</td>\n",
              "      <td>0</td>\n",
              "      <td>112500.0</td>\n",
              "      <td>Working</td>\n",
              "      <td>Secondary / secondary special</td>\n",
              "      <td>Married</td>\n",
              "      <td>House / apartment</td>\n",
              "      <td>-21474</td>\n",
              "      <td>-1134</td>\n",
              "      <td>0</td>\n",
              "      <td>0</td>\n",
              "      <td>0</td>\n",
              "      <td>Security staff</td>\n",
              "      <td>2.0</td>\n",
              "      <td>0</td>\n",
              "      <td>0</td>\n",
              "    </tr>\n",
              "    <tr>\n",
              "      <th>3</th>\n",
              "      <td>5008808</td>\n",
              "      <td>F</td>\n",
              "      <td>N</td>\n",
              "      <td>Y</td>\n",
              "      <td>0</td>\n",
              "      <td>270000.0</td>\n",
              "      <td>Commercial associate</td>\n",
              "      <td>Secondary / secondary special</td>\n",
              "      <td>Single / not married</td>\n",
              "      <td>House / apartment</td>\n",
              "      <td>-19110</td>\n",
              "      <td>-3051</td>\n",
              "      <td>0</td>\n",
              "      <td>1</td>\n",
              "      <td>1</td>\n",
              "      <td>Sales staff</td>\n",
              "      <td>1.0</td>\n",
              "      <td>0</td>\n",
              "      <td>0</td>\n",
              "    </tr>\n",
              "    <tr>\n",
              "      <th>4</th>\n",
              "      <td>5008809</td>\n",
              "      <td>F</td>\n",
              "      <td>N</td>\n",
              "      <td>Y</td>\n",
              "      <td>0</td>\n",
              "      <td>270000.0</td>\n",
              "      <td>Commercial associate</td>\n",
              "      <td>Secondary / secondary special</td>\n",
              "      <td>Single / not married</td>\n",
              "      <td>House / apartment</td>\n",
              "      <td>-19110</td>\n",
              "      <td>-3051</td>\n",
              "      <td>0</td>\n",
              "      <td>1</td>\n",
              "      <td>1</td>\n",
              "      <td>Sales staff</td>\n",
              "      <td>1.0</td>\n",
              "      <td>-22</td>\n",
              "      <td>0</td>\n",
              "    </tr>\n",
              "  </tbody>\n",
              "</table>\n",
              "</div>"
            ],
            "text/plain": [
              "        ID CODE_GENDER FLAG_OWN_CAR  ... CNT_FAM_MEMBERS  MONTHS_BALANCE  STATUS\n",
              "0  5008804           M            Y  ...             2.0               0       0\n",
              "1  5008805           M            Y  ...             2.0               0       0\n",
              "2  5008806           M            Y  ...             2.0               0       0\n",
              "3  5008808           F            N  ...             1.0               0       0\n",
              "4  5008809           F            N  ...             1.0             -22       0\n",
              "\n",
              "[5 rows x 19 columns]"
            ]
          },
          "metadata": {},
          "execution_count": 16
        }
      ]
    },
    {
      "cell_type": "code",
      "metadata": {
        "id": "YNYtv6-q5Irx",
        "colab": {
          "base_uri": "https://localhost:8080/"
        },
        "outputId": "4df806c7-c6f2-4455-a092-164ebaaa4591"
      },
      "source": [
        "#OCCUPATION_TYPE has 240048 (30.9%) missing values => 파고들기 \n",
        "\n",
        "otsum = df['OCCUPATION_TYPE'].value_counts().sum()\n",
        "otnsum = df['OCCUPATION_TYPE'].isnull().sum()\n",
        "\n",
        "print(\"OCCUPATION TYPE 총 데이터 수\", df['OCCUPATION_TYPE'].value_counts().sum())\n",
        "print(df['OCCUPATION_TYPE'].value_counts())\n",
        "print(\"OCCUPATION TYPE 결측치 :\", df['OCCUPATION_TYPE'].isnull().sum())"
      ],
      "execution_count": null,
      "outputs": [
        {
          "output_type": "stream",
          "name": "stdout",
          "text": [
            "OCCUPATION TYPE 총 데이터 수 25134\n",
            "Laborers                 6211\n",
            "Core staff               3591\n",
            "Sales staff              3485\n",
            "Managers                 3012\n",
            "Drivers                  2138\n",
            "High skill tech staff    1383\n",
            "Accountants              1241\n",
            "Medicine staff           1207\n",
            "Cooking staff             655\n",
            "Security staff            592\n",
            "Cleaning staff            551\n",
            "Private service staff     344\n",
            "Low-skill Laborers        175\n",
            "Waiters/barmen staff      174\n",
            "Secretaries               151\n",
            "HR staff                   85\n",
            "Realty agents              79\n",
            "IT staff                   60\n",
            "Name: OCCUPATION_TYPE, dtype: int64\n",
            "OCCUPATION TYPE 결측치 : 11323\n"
          ]
        }
      ]
    },
    {
      "cell_type": "code",
      "metadata": {
        "colab": {
          "base_uri": "https://localhost:8080/",
          "height": 398
        },
        "id": "H7lGq6kqad4_",
        "outputId": "68ff0fed-c158-4e1a-a55a-43fe42953193"
      },
      "source": [
        "%matplotlib inline \n",
        "import seaborn as sns\n",
        "\n",
        "sns.heatmap(df.isnull(), cbar=False)"
      ],
      "execution_count": null,
      "outputs": [
        {
          "output_type": "execute_result",
          "data": {
            "text/plain": [
              "<matplotlib.axes._subplots.AxesSubplot at 0x7f8d5a5cb310>"
            ]
          },
          "metadata": {},
          "execution_count": 18
        },
        {
          "output_type": "display_data",
          "data": {
            "image/png": "[encoded data removed]",
            "text/plain": [
              "<Figure size 432x288 with 1 Axes>"
            ]
          },
          "metadata": {
            "needs_background": "light"
          }
        }
      ]
    },
    {
      "cell_type": "code",
      "metadata": {
        "id": "0UIVYdJ7W1RP",
        "colab": {
          "base_uri": "https://localhost:8080/",
          "height": 296
        },
        "outputId": "c76250d6-184c-42e0-edb0-590e6ebe916c"
      },
      "source": [
        "# OCCUPATION TYPE 중 결측치를 'Not Available'로 채우고 표를 확인\n",
        "import seaborn as sns\n",
        "import matplotlib.pyplot as plt\n",
        "%matplotlib inline \n",
        "df['OCCUPATION_TYPE'] = df['OCCUPATION_TYPE'].fillna('Not Available')\n",
        "sns.countplot(y=df['OCCUPATION_TYPE'])\n",
        "plt.show();\n",
        "\n",
        "# 매우 아쉽게도, 결측치가 너무 많아 삭제하는 것으로 한다. \n",
        "df = df.drop(columns=['OCCUPATION_TYPE'])\n",
        "df.shape"
      ],
      "execution_count": null,
      "outputs": [
        {
          "output_type": "display_data",
          "data": {
            "image/png": "[encoded data removed]",
            "text/plain": [
              "<Figure size 432x288 with 1 Axes>"
            ]
          },
          "metadata": {
            "needs_background": "light"
          }
        },
        {
          "output_type": "execute_result",
          "data": {
            "text/plain": [
              "(36457, 18)"
            ]
          },
          "metadata": {},
          "execution_count": 19
        }
      ]
    },
    {
      "cell_type": "code",
      "metadata": {
        "colab": {
          "base_uri": "https://localhost:8080/"
        },
        "id": "aho_mDiWhnq8",
        "outputId": "9b599ef0-0c91-488a-e6d9-afce2113f04b"
      },
      "source": [
        "#CNT_CHILDREN has 540639 (69.5%) zeros => 값 0 \n",
        "df['CNT_CHILDREN'].value_counts()"
      ],
      "execution_count": null,
      "outputs": [
        {
          "output_type": "execute_result",
          "data": {
            "text/plain": [
              "0     25201\n",
              "1      7492\n",
              "2      3256\n",
              "3       419\n",
              "4        63\n",
              "5        20\n",
              "14        3\n",
              "7         2\n",
              "19        1\n",
              "Name: CNT_CHILDREN, dtype: int64"
            ]
          },
          "metadata": {},
          "execution_count": 20
        }
      ]
    },
    {
      "cell_type": "code",
      "metadata": {
        "colab": {
          "base_uri": "https://localhost:8080/"
        },
        "id": "X77DMIXLfGdj",
        "outputId": "2b71eb5b-eb84-402b-bbad-937da52ca62e"
      },
      "source": [
        "#MONTHS_BALANCE has 24672 (3.2%) zeros => 값 0 \n",
        "df['MONTHS_BALANCE'].value_counts()\n",
        "\n",
        "#데이터를 언제 뽑았는지에 대한 값이기에 target과 관계 없음 \n",
        "df = df.drop(columns=['MONTHS_BALANCE'])\n",
        "df.shape"
      ],
      "execution_count": null,
      "outputs": [
        {
          "output_type": "execute_result",
          "data": {
            "text/plain": [
              "(36457, 17)"
            ]
          },
          "metadata": {},
          "execution_count": 21
        }
      ]
    },
    {
      "cell_type": "code",
      "metadata": {
        "id": "WEZUMUJ8XBvo"
      },
      "source": [
        "#'ID': Client Number\n",
        "#'CODE_GENDER': Gender \n",
        "#'FLAG_OWN_CAR': Car own\n",
        "#'FLAG_OWN_REALTY': Property own\n",
        "#'CNT_CHILDREN': Number of Children\n",
        "#'AMT_INCOME_TOTAL': Annual Income\n",
        "#'NAME_INCOME_TYPE': Income Category\n",
        "#'NAME_EDUCATION_TYPE': Edcuation Level\n",
        "#'NAME_FAMILY_STATUS': Maritial Status\n",
        "#'NAME_HOUSING_TYPE': Way of Living\n",
        "#'DAYS_BIRTH': Birthday(Count backwards from current day eg. 01 means yday)\n",
        "#DAYS_EMPLOYED': Start date of employment (as above, if positive currently unemplyed) \n",
        "#'FLAG_WORK_PHONE': Work phone own\n",
        "#'FLAG_PHONE': Phone own\n",
        "#'FLAG_EMAIL': Email own\n",
        "#'OCCUPATION_TYPE': Occupation \n",
        "#'CNT_FAM_MEMBERS': Family size "
      ],
      "execution_count": null,
      "outputs": []
    },
    {
      "cell_type": "code",
      "metadata": {
        "colab": {
          "base_uri": "https://localhost:8080/",
          "height": 561
        },
        "id": "kc7hFqq6sUy9",
        "outputId": "5291d961-ca75-4d1e-8674-ca9775ea3a33"
      },
      "source": [
        "#'CODE_GENDER': Gender\n",
        "df['CODE_GENDER'].replace(['F'], 0, inplace=True)\n",
        "df['CODE_GENDER'].replace(['M'], 1, inplace=True)\n",
        "print(df['CODE_GENDER'].value_counts())\n",
        "\n",
        "# 2:1 비율로 여성 신청자의 수가 많다.\n",
        "plt.pie(df['CODE_GENDER'].value_counts(), labels=['Female', 'Male'], autopct='%1.2f%%')\n",
        "plt.title('Applications submission % based on Gender')\n",
        "plt.show();\n",
        "\n",
        "# 2:1 비율로 신용카드 발급이 승인된 수가 많다.\n",
        "plt.pie(df[df['STATUS']==0]['CODE_GENDER'].value_counts(), labels=['Female', 'Male'], autopct='%1.2f%%')\n",
        "plt.title('Applications approved % based on Gender')\n",
        "plt.show()\n",
        "\n"
      ],
      "execution_count": null,
      "outputs": [
        {
          "output_type": "stream",
          "name": "stdout",
          "text": [
            "0    24430\n",
            "1    12027\n",
            "Name: CODE_GENDER, dtype: int64\n"
          ]
        },
        {
          "output_type": "display_data",
          "data": {
            "image/png": "[encoded data removed]",
            "text/plain": [
              "<Figure size 432x288 with 1 Axes>"
            ]
          },
          "metadata": {}
        },
        {
          "output_type": "display_data",
          "data": {
            "image/png": "[encoded data removed]",
            "text/plain": [
              "<Figure size 432x288 with 1 Axes>"
            ]
          },
          "metadata": {}
        }
      ]
    },
    {
      "cell_type": "code",
      "metadata": {
        "colab": {
          "base_uri": "https://localhost:8080/",
          "height": 578
        },
        "id": "rvP-pDEst0mU",
        "outputId": "cb926b48-4ed2-4631-ae2c-8e063600b506"
      },
      "source": [
        "#'FLAG_OWN_CAR': Car own\n",
        "df['FLAG_OWN_CAR'].replace(['N'], 0, inplace=True)\n",
        "df['FLAG_OWN_CAR'].replace(['Y'], 1, inplace=True)\n",
        "print(\"CAR Y/N: \\n\", df['FLAG_OWN_CAR'].value_counts())\n",
        "plt.show();\n",
        "\n",
        "# 2:1 비율로 차가 없는 신청자의 수가 많다.\n",
        "plt.pie(df['FLAG_OWN_CAR'].value_counts(), labels=['NO', 'YES'],autopct='%1.2f%%')\n",
        "plt.title('Applications submission % based on owning a Car')\n",
        "plt.show();\n",
        "\n",
        "# 2:1 비율로 차가 없는 사람의 신용카드 발급이 승인된 수가 많다.\n",
        "plt.pie(df[df['STATUS']==0]['FLAG_OWN_CAR'].value_counts(), labels=['NO', 'YES'], autopct='%1.2f%%')\n",
        "plt.title('Applications approved % based on owning a Car')\n",
        "plt.show()"
      ],
      "execution_count": null,
      "outputs": [
        {
          "output_type": "stream",
          "name": "stdout",
          "text": [
            "CAR Y/N: \n",
            " 0    22614\n",
            "1    13843\n",
            "Name: FLAG_OWN_CAR, dtype: int64\n"
          ]
        },
        {
          "output_type": "display_data",
          "data": {
            "image/png": "[encoded data removed]",
            "text/plain": [
              "<Figure size 432x288 with 1 Axes>"
            ]
          },
          "metadata": {}
        },
        {
          "output_type": "display_data",
          "data": {
            "image/png": "[encoded data removed]",
            "text/plain": [
              "<Figure size 432x288 with 1 Axes>"
            ]
          },
          "metadata": {}
        }
      ]
    },
    {
      "cell_type": "code",
      "metadata": {
        "colab": {
          "base_uri": "https://localhost:8080/",
          "height": 612
        },
        "id": "87riGMblQkzQ",
        "outputId": "72137f81-553f-47e7-c07f-2d560591b1b0"
      },
      "source": [
        "df['FLAG_OWN_REALTY'].replace(['N'], 0, inplace=True)\n",
        "df['FLAG_OWN_REALTY'].replace(['Y'], 1, inplace=True)\n",
        "print(\"\\n\\nFLAG_OWN_REALTY Y/N:\\n\", df['FLAG_OWN_REALTY'].value_counts())\n",
        "\n",
        "# 2:1 비율로 부동산이 신청자의 수가 많다.\n",
        "plt.pie(df['FLAG_OWN_REALTY'].value_counts(), labels=['YES', 'NO'], autopct='%1.2f%%')\n",
        "plt.title('Applications submission % based on Owning Realty')\n",
        "plt.show();\n",
        "\n",
        "# 2:1 비율로 부동산이 있는 신청자의 신용카드 발급이 승인된 수가 많다.\n",
        "plt.pie(df[df['STATUS']==0]['FLAG_OWN_REALTY'].value_counts(), labels=['YES', 'NO'], autopct='%1.2f%%')\n",
        "plt.title('Applications approved % based on Owning realty')\n",
        "plt.show()"
      ],
      "execution_count": null,
      "outputs": [
        {
          "output_type": "stream",
          "name": "stdout",
          "text": [
            "\n",
            "\n",
            "FLAG_OWN_REALTY Y/N:\n",
            " 1    24506\n",
            "0    11951\n",
            "Name: FLAG_OWN_REALTY, dtype: int64\n"
          ]
        },
        {
          "output_type": "display_data",
          "data": {
            "image/png": "[encoded data removed]",
            "text/plain": [
              "<Figure size 432x288 with 1 Axes>"
            ]
          },
          "metadata": {}
        },
        {
          "output_type": "display_data",
          "data": {
            "image/png": "[encoded data removed]",
            "text/plain": [
              "<Figure size 432x288 with 1 Axes>"
            ]
          },
          "metadata": {}
        }
      ]
    },
    {
      "cell_type": "code",
      "metadata": {
        "colab": {
          "base_uri": "https://localhost:8080/",
          "height": 543
        },
        "id": "71Oc5tcovcRR",
        "outputId": "3188f08f-5b4a-4151-b20a-ff9adf38a316"
      },
      "source": [
        "#'CNT_CHILDREN': Number of Children\n",
        "#'CNT_FAM_MEMBERS': Family size\n",
        "\n",
        "\n",
        "sns.countplot( x=df['CNT_CHILDREN'])\n",
        "plt.show();\n",
        "\n",
        "sns.countplot( x=df['CNT_FAM_MEMBERS'])\n",
        "plt.show();\n"
      ],
      "execution_count": null,
      "outputs": [
        {
          "output_type": "display_data",
          "data": {
            "image/png": "[encoded data removed]",
            "text/plain": [
              "<Figure size 432x288 with 1 Axes>"
            ]
          },
          "metadata": {
            "needs_background": "light"
          }
        },
        {
          "output_type": "display_data",
          "data": {
            "image/png": "[encoded data removed]",
            "text/plain": [
              "<Figure size 432x288 with 1 Axes>"
            ]
          },
          "metadata": {
            "needs_background": "light"
          }
        }
      ]
    },
    {
      "cell_type": "code",
      "metadata": {
        "colab": {
          "base_uri": "https://localhost:8080/",
          "height": 279
        },
        "id": "7vl5SFgHD7NR",
        "outputId": "c1d17fb6-2716-487e-9361-80cfa55509b8"
      },
      "source": [
        "#'AMT_INCOME_TOTAL': Annual Income & Family Status\n",
        "# 범주형데이터 중 순서형 변수로 변경\n",
        "\n",
        "sns.countplot( y=df['NAME_FAMILY_STATUS'])\n",
        "plt.show();"
      ],
      "execution_count": null,
      "outputs": [
        {
          "output_type": "display_data",
          "data": {
            "image/png": "[encoded data removed]",
            "text/plain": [
              "<Figure size 432x288 with 1 Axes>"
            ]
          },
          "metadata": {
            "needs_background": "light"
          }
        }
      ]
    },
    {
      "cell_type": "code",
      "metadata": {
        "colab": {
          "base_uri": "https://localhost:8080/"
        },
        "id": "RuLfImHiEFgf",
        "outputId": "dfac2840-cc25-4183-d8fe-7dfc59e78b91"
      },
      "source": [
        "#'NAME_FAMILY_STATUS': Maritial Status\n",
        "# => 연간 수입과 기/미혼 여부 따른 순위 분류 \n",
        "\n",
        "dffs = df.groupby(['NAME_FAMILY_STATUS']).mean().sort_values(['AMT_INCOME_TOTAL'], ascending=False)\n",
        "print(dffs['AMT_INCOME_TOTAL'])\n",
        "\n",
        "#그다지 차이가 안나오므로, drop 결정\n",
        "df = df.drop(columns=['NAME_FAMILY_STATUS'])"
      ],
      "execution_count": null,
      "outputs": [
        {
          "output_type": "stream",
          "name": "stdout",
          "text": [
            "NAME_FAMILY_STATUS\n",
            "Single / not married    192742.889211\n",
            "Separated               192101.090585\n",
            "Married                 186692.723990\n",
            "Civil marriage          182582.876231\n",
            "Widow                   167932.098564\n",
            "Name: AMT_INCOME_TOTAL, dtype: float64\n"
          ]
        }
      ]
    },
    {
      "cell_type": "code",
      "metadata": {
        "colab": {
          "base_uri": "https://localhost:8080/",
          "height": 280
        },
        "id": "ILDkuWaBwPYZ",
        "outputId": "39eeb51e-237c-4bad-bd51-cff56b83b63e"
      },
      "source": [
        "#'AMT_INCOME_TOTAL': Annual Income & eudcation type \n",
        "# 범주형데이터 중 순서형 변수로 변경\n",
        "\n",
        "sns.barplot(x=df.AMT_INCOME_TOTAL, y=df.NAME_EDUCATION_TYPE)\n",
        "plt.show();"
      ],
      "execution_count": null,
      "outputs": [
        {
          "output_type": "display_data",
          "data": {
            "image/png": "[encoded data removed]",
            "text/plain": [
              "<Figure size 432x288 with 1 Axes>"
            ]
          },
          "metadata": {
            "needs_background": "light"
          }
        }
      ]
    },
    {
      "cell_type": "code",
      "metadata": {
        "colab": {
          "base_uri": "https://localhost:8080/"
        },
        "id": "YiQtt2M88GP0",
        "outputId": "d496562e-dd79-40df-dfa6-a6a9c2a4d430"
      },
      "source": [
        "dffs = df.groupby(['NAME_EDUCATION_TYPE']).mean().sort_values(['AMT_INCOME_TOTAL'], ascending=False)\n",
        "print(dffs['AMT_INCOME_TOTAL'])\n"
      ],
      "execution_count": null,
      "outputs": [
        {
          "output_type": "stream",
          "name": "stdout",
          "text": [
            "NAME_EDUCATION_TYPE\n",
            "0    247500.000000\n",
            "1    223733.666058\n",
            "2    201663.191489\n",
            "4    171685.319833\n",
            "3    141659.759358\n",
            "Name: AMT_INCOME_TOTAL, dtype: float64\n"
          ]
        }
      ]
    },
    {
      "cell_type": "code",
      "metadata": {
        "colab": {
          "base_uri": "https://localhost:8080/",
          "height": 280
        },
        "id": "ttDHWxKm7vgl",
        "outputId": "bb878299-95f8-41b5-bd99-379d080f82fe"
      },
      "source": [
        "#'AMT_INCOME_TOTAL': Annual Income & income type\n",
        "# 범주형데이터 중 순서형 변수로 변경\n",
        "\n",
        "sns.barplot (x=df.AMT_INCOME_TOTAL, y=df.NAME_INCOME_TYPE)\n",
        "plt.show();"
      ],
      "execution_count": null,
      "outputs": [
        {
          "output_type": "display_data",
          "data": {
            "image/png": "[encoded data removed]",
            "text/plain": [
              "<Figure size 432x288 with 1 Axes>"
            ]
          },
          "metadata": {
            "needs_background": "light"
          }
        }
      ]
    },
    {
      "cell_type": "code",
      "metadata": {
        "colab": {
          "base_uri": "https://localhost:8080/",
          "height": 280
        },
        "id": "HR3fM7DbGh5r",
        "outputId": "c626d929-b70f-4908-8176-6f7b032b3727"
      },
      "source": [
        "#'AMT_INCOME_TOTAL': Annual Income & housing type \n",
        "# 범주형데이터 중 순서형 변수로 변경\n",
        "\n",
        "sns.barplot (x=df.AMT_INCOME_TOTAL, y=df.NAME_HOUSING_TYPE)\n",
        "plt.show();"
      ],
      "execution_count": null,
      "outputs": [
        {
          "output_type": "display_data",
          "data": {
            "image/png": "[encoded data removed]",
            "text/plain": [
              "<Figure size 432x288 with 1 Axes>"
            ]
          },
          "metadata": {
            "needs_background": "light"
          }
        }
      ]
    },
    {
      "cell_type": "code",
      "metadata": {
        "colab": {
          "base_uri": "https://localhost:8080/",
          "height": 465
        },
        "id": "EXSWxWrwH7q4",
        "outputId": "c1b1b82c-c555-4cb3-82ef-d2800bf0dee3"
      },
      "source": [
        "#'DAYS_BIRTH': Birthday(Count backwards from current day eg. 01 means yday)\n",
        "# 단위 변환 \n",
        "df['DAYS_BIRTH'] = round(df['DAYS_BIRTH']/-365, 0)\n",
        "df['DAYS_BIRTH'].plot(kind='hist', density=False);\n",
        "df.rename(columns={'DAYS_BIRTH':'AGE_YEARS'}, inplace=True)\n",
        "df['AGE_YEARS']"
      ],
      "execution_count": null,
      "outputs": [
        {
          "output_type": "execute_result",
          "data": {
            "text/plain": [
              "0        33.0\n",
              "1        33.0\n",
              "2        59.0\n",
              "3        52.0\n",
              "4        52.0\n",
              "         ... \n",
              "36452    48.0\n",
              "36453    34.0\n",
              "36454    34.0\n",
              "36455    49.0\n",
              "36456    25.0\n",
              "Name: AGE_YEARS, Length: 36457, dtype: float64"
            ]
          },
          "metadata": {},
          "execution_count": 32
        },
        {
          "output_type": "display_data",
          "data": {
            "image/png": "[encoded data removed]",
            "text/plain": [
              "<Figure size 432x288 with 1 Axes>"
            ]
          },
          "metadata": {
            "needs_background": "light"
          }
        }
      ]
    },
    {
      "cell_type": "code",
      "metadata": {
        "id": "zOEO7pO4B93G"
      },
      "source": [
        "#'FLAG_WORK_PHONE': Work phone own => Employed Y/N랑 연관 그래서 drop\n",
        "df = df.drop(columns=['FLAG_WORK_PHONE'])\n",
        "#'FLAG_PHONE': Phone own => 모두 갖고 있음으로 drop\n",
        "df = df.drop(columns=['FLAG_PHONE'])\n",
        "#'FLAG_EMAIL': Email own => Email과 신용카드 발급 승인 여부 무관할 것으로 판단\n",
        "df = df.drop(columns=['FLAG_EMAIL'])\n",
        "#'ID': ID 삭제\n",
        "df = df.drop(columns=['ID'])"
      ],
      "execution_count": null,
      "outputs": []
    },
    {
      "cell_type": "code",
      "metadata": {
        "colab": {
          "base_uri": "https://localhost:8080/",
          "height": 272
        },
        "id": "yWuZh18BC2iA",
        "outputId": "07c5a160-e12a-4570-c5ad-99216a6fbfc2"
      },
      "source": [
        "df.head()"
      ],
      "execution_count": null,
      "outputs": [
        {
          "output_type": "execute_result",
          "data": {
            "text/html": [
              "<div>\n",
              "<style scoped>\n",
              "    .dataframe tbody tr th:only-of-type {\n",
              "        vertical-align: middle;\n",
              "    }\n",
              "\n",
              "    .dataframe tbody tr th {\n",
              "        vertical-align: top;\n",
              "    }\n",
              "\n",
              "    .dataframe thead th {\n",
              "        text-align: right;\n",
              "    }\n",
              "</style>\n",
              "<table border=\"1\" class=\"dataframe\">\n",
              "  <thead>\n",
              "    <tr style=\"text-align: right;\">\n",
              "      <th></th>\n",
              "      <th>CODE_GENDER</th>\n",
              "      <th>FLAG_OWN_CAR</th>\n",
              "      <th>FLAG_OWN_REALTY</th>\n",
              "      <th>CNT_CHILDREN</th>\n",
              "      <th>AMT_INCOME_TOTAL</th>\n",
              "      <th>NAME_INCOME_TYPE</th>\n",
              "      <th>NAME_EDUCATION_TYPE</th>\n",
              "      <th>NAME_HOUSING_TYPE</th>\n",
              "      <th>AGE_YEARS</th>\n",
              "      <th>DAYS_EMPLOYED</th>\n",
              "      <th>CNT_FAM_MEMBERS</th>\n",
              "      <th>STATUS</th>\n",
              "    </tr>\n",
              "  </thead>\n",
              "  <tbody>\n",
              "    <tr>\n",
              "      <th>0</th>\n",
              "      <td>1</td>\n",
              "      <td>1</td>\n",
              "      <td>1</td>\n",
              "      <td>0</td>\n",
              "      <td>427500.0</td>\n",
              "      <td>Working</td>\n",
              "      <td>Higher education</td>\n",
              "      <td>Rented apartment</td>\n",
              "      <td>33.0</td>\n",
              "      <td>-4542</td>\n",
              "      <td>2.0</td>\n",
              "      <td>0</td>\n",
              "    </tr>\n",
              "    <tr>\n",
              "      <th>1</th>\n",
              "      <td>1</td>\n",
              "      <td>1</td>\n",
              "      <td>1</td>\n",
              "      <td>0</td>\n",
              "      <td>427500.0</td>\n",
              "      <td>Working</td>\n",
              "      <td>Higher education</td>\n",
              "      <td>Rented apartment</td>\n",
              "      <td>33.0</td>\n",
              "      <td>-4542</td>\n",
              "      <td>2.0</td>\n",
              "      <td>0</td>\n",
              "    </tr>\n",
              "    <tr>\n",
              "      <th>2</th>\n",
              "      <td>1</td>\n",
              "      <td>1</td>\n",
              "      <td>1</td>\n",
              "      <td>0</td>\n",
              "      <td>112500.0</td>\n",
              "      <td>Working</td>\n",
              "      <td>Secondary / secondary special</td>\n",
              "      <td>House / apartment</td>\n",
              "      <td>59.0</td>\n",
              "      <td>-1134</td>\n",
              "      <td>2.0</td>\n",
              "      <td>0</td>\n",
              "    </tr>\n",
              "    <tr>\n",
              "      <th>3</th>\n",
              "      <td>0</td>\n",
              "      <td>0</td>\n",
              "      <td>1</td>\n",
              "      <td>0</td>\n",
              "      <td>270000.0</td>\n",
              "      <td>Commercial associate</td>\n",
              "      <td>Secondary / secondary special</td>\n",
              "      <td>House / apartment</td>\n",
              "      <td>52.0</td>\n",
              "      <td>-3051</td>\n",
              "      <td>1.0</td>\n",
              "      <td>0</td>\n",
              "    </tr>\n",
              "    <tr>\n",
              "      <th>4</th>\n",
              "      <td>0</td>\n",
              "      <td>0</td>\n",
              "      <td>1</td>\n",
              "      <td>0</td>\n",
              "      <td>270000.0</td>\n",
              "      <td>Commercial associate</td>\n",
              "      <td>Secondary / secondary special</td>\n",
              "      <td>House / apartment</td>\n",
              "      <td>52.0</td>\n",
              "      <td>-3051</td>\n",
              "      <td>1.0</td>\n",
              "      <td>0</td>\n",
              "    </tr>\n",
              "  </tbody>\n",
              "</table>\n",
              "</div>"
            ],
            "text/plain": [
              "   CODE_GENDER  FLAG_OWN_CAR  ...  CNT_FAM_MEMBERS  STATUS\n",
              "0            1             1  ...              2.0       0\n",
              "1            1             1  ...              2.0       0\n",
              "2            1             1  ...              2.0       0\n",
              "3            0             0  ...              1.0       0\n",
              "4            0             0  ...              1.0       0\n",
              "\n",
              "[5 rows x 12 columns]"
            ]
          },
          "metadata": {},
          "execution_count": 34
        }
      ]
    },
    {
      "cell_type": "code",
      "metadata": {
        "id": "n40onCNv5xv-"
      },
      "source": [
        "# As mentioned in document, if 'DAYS_EMPLOYED' is positive no, it means person currently unemployed, hence replacing it with 0\n",
        "\n",
        "df['DAYS_EMPLOYED'].replace(365243, 0, inplace=True)\n",
        "\n",
        "df['DAYS_EMPLOYED'] = abs(round(df['DAYS_EMPLOYED']/-365,0))\n",
        "df.rename(columns={'DAYS_EMPLOYED':'YEARS_EMPLOYED'}, inplace=True) \n"
      ],
      "execution_count": null,
      "outputs": []
    },
    {
      "cell_type": "code",
      "metadata": {
        "colab": {
          "base_uri": "https://localhost:8080/",
          "height": 349
        },
        "id": "Wqi5LEyg5M6o",
        "outputId": "c988a558-0b60-48cf-a3ca-7dccc065352f"
      },
      "source": [
        "sns.scatterplot(df['YEARS_EMPLOYED'], df['AMT_INCOME_TOTAL'], hue=df['STATUS'])\n",
        "plt.title('Scatter Plot')\n",
        "plt.show()"
      ],
      "execution_count": null,
      "outputs": [
        {
          "output_type": "stream",
          "name": "stderr",
          "text": [
            "/usr/local/lib/python3.7/dist-packages/seaborn/_decorators.py:43: FutureWarning: Pass the following variables as keyword args: x, y. From version 0.12, the only valid positional argument will be `data`, and passing other arguments without an explicit keyword will result in an error or misinterpretation.\n",
            "  FutureWarning\n"
          ]
        },
        {
          "output_type": "display_data",
          "data": {
            "image/png": "[encoded data removed]",
            "text/plain": [
              "<Figure size 432x288 with 1 Axes>"
            ]
          },
          "metadata": {
            "needs_background": "light"
          }
        }
      ]
    },
    {
      "cell_type": "code",
      "metadata": {
        "colab": {
          "base_uri": "https://localhost:8080/",
          "height": 327
        },
        "id": "4Fnpmu6w430B",
        "outputId": "32f9b294-6cd0-4814-aa1e-0e29b15cf55f"
      },
      "source": [
        "df.corr()"
      ],
      "execution_count": null,
      "outputs": [
        {
          "output_type": "execute_result",
          "data": {
            "text/html": [
              "<div>\n",
              "<style scoped>\n",
              "    .dataframe tbody tr th:only-of-type {\n",
              "        vertical-align: middle;\n",
              "    }\n",
              "\n",
              "    .dataframe tbody tr th {\n",
              "        vertical-align: top;\n",
              "    }\n",
              "\n",
              "    .dataframe thead th {\n",
              "        text-align: right;\n",
              "    }\n",
              "</style>\n",
              "<table border=\"1\" class=\"dataframe\">\n",
              "  <thead>\n",
              "    <tr style=\"text-align: right;\">\n",
              "      <th></th>\n",
              "      <th>CODE_GENDER</th>\n",
              "      <th>FLAG_OWN_CAR</th>\n",
              "      <th>FLAG_OWN_REALTY</th>\n",
              "      <th>CNT_CHILDREN</th>\n",
              "      <th>AMT_INCOME_TOTAL</th>\n",
              "      <th>AGE_YEARS</th>\n",
              "      <th>YEARS_EMPLOYED</th>\n",
              "      <th>CNT_FAM_MEMBERS</th>\n",
              "      <th>STATUS</th>\n",
              "    </tr>\n",
              "  </thead>\n",
              "  <tbody>\n",
              "    <tr>\n",
              "      <th>CODE_GENDER</th>\n",
              "      <td>1.000000</td>\n",
              "      <td>0.361379</td>\n",
              "      <td>-0.050758</td>\n",
              "      <td>0.077690</td>\n",
              "      <td>0.197805</td>\n",
              "      <td>-0.202398</td>\n",
              "      <td>-0.032177</td>\n",
              "      <td>0.110782</td>\n",
              "      <td>0.013739</td>\n",
              "    </tr>\n",
              "    <tr>\n",
              "      <th>FLAG_OWN_CAR</th>\n",
              "      <td>0.361379</td>\n",
              "      <td>1.000000</td>\n",
              "      <td>-0.015185</td>\n",
              "      <td>0.105839</td>\n",
              "      <td>0.215506</td>\n",
              "      <td>-0.156772</td>\n",
              "      <td>0.006563</td>\n",
              "      <td>0.151814</td>\n",
              "      <td>-0.000582</td>\n",
              "    </tr>\n",
              "    <tr>\n",
              "      <th>FLAG_OWN_REALTY</th>\n",
              "      <td>-0.050758</td>\n",
              "      <td>-0.015185</td>\n",
              "      <td>1.000000</td>\n",
              "      <td>-0.000575</td>\n",
              "      <td>0.032719</td>\n",
              "      <td>0.130286</td>\n",
              "      <td>-0.033512</td>\n",
              "      <td>-0.005723</td>\n",
              "      <td>-0.005610</td>\n",
              "    </tr>\n",
              "    <tr>\n",
              "      <th>CNT_CHILDREN</th>\n",
              "      <td>0.077690</td>\n",
              "      <td>0.105839</td>\n",
              "      <td>-0.000575</td>\n",
              "      <td>1.000000</td>\n",
              "      <td>0.033691</td>\n",
              "      <td>-0.339085</td>\n",
              "      <td>0.043104</td>\n",
              "      <td>0.889114</td>\n",
              "      <td>-0.000501</td>\n",
              "    </tr>\n",
              "    <tr>\n",
              "      <th>AMT_INCOME_TOTAL</th>\n",
              "      <td>0.197805</td>\n",
              "      <td>0.215506</td>\n",
              "      <td>0.032719</td>\n",
              "      <td>0.033691</td>\n",
              "      <td>1.000000</td>\n",
              "      <td>-0.067666</td>\n",
              "      <td>0.087344</td>\n",
              "      <td>0.023750</td>\n",
              "      <td>0.009730</td>\n",
              "    </tr>\n",
              "    <tr>\n",
              "      <th>AGE_YEARS</th>\n",
              "      <td>-0.202398</td>\n",
              "      <td>-0.156772</td>\n",
              "      <td>0.130286</td>\n",
              "      <td>-0.339085</td>\n",
              "      <td>-0.067666</td>\n",
              "      <td>1.000000</td>\n",
              "      <td>-0.022332</td>\n",
              "      <td>-0.303801</td>\n",
              "      <td>-0.005167</td>\n",
              "    </tr>\n",
              "    <tr>\n",
              "      <th>YEARS_EMPLOYED</th>\n",
              "      <td>-0.032177</td>\n",
              "      <td>0.006563</td>\n",
              "      <td>-0.033512</td>\n",
              "      <td>0.043104</td>\n",
              "      <td>0.087344</td>\n",
              "      <td>-0.022332</td>\n",
              "      <td>1.000000</td>\n",
              "      <td>0.054238</td>\n",
              "      <td>-0.006665</td>\n",
              "    </tr>\n",
              "    <tr>\n",
              "      <th>CNT_FAM_MEMBERS</th>\n",
              "      <td>0.110782</td>\n",
              "      <td>0.151814</td>\n",
              "      <td>-0.005723</td>\n",
              "      <td>0.889114</td>\n",
              "      <td>0.023750</td>\n",
              "      <td>-0.303801</td>\n",
              "      <td>0.054238</td>\n",
              "      <td>1.000000</td>\n",
              "      <td>0.001238</td>\n",
              "    </tr>\n",
              "    <tr>\n",
              "      <th>STATUS</th>\n",
              "      <td>0.013739</td>\n",
              "      <td>-0.000582</td>\n",
              "      <td>-0.005610</td>\n",
              "      <td>-0.000501</td>\n",
              "      <td>0.009730</td>\n",
              "      <td>-0.005167</td>\n",
              "      <td>-0.006665</td>\n",
              "      <td>0.001238</td>\n",
              "      <td>1.000000</td>\n",
              "    </tr>\n",
              "  </tbody>\n",
              "</table>\n",
              "</div>"
            ],
            "text/plain": [
              "                  CODE_GENDER  FLAG_OWN_CAR  ...  CNT_FAM_MEMBERS    STATUS\n",
              "CODE_GENDER          1.000000      0.361379  ...         0.110782  0.013739\n",
              "FLAG_OWN_CAR         0.361379      1.000000  ...         0.151814 -0.000582\n",
              "FLAG_OWN_REALTY     -0.050758     -0.015185  ...        -0.005723 -0.005610\n",
              "CNT_CHILDREN         0.077690      0.105839  ...         0.889114 -0.000501\n",
              "AMT_INCOME_TOTAL     0.197805      0.215506  ...         0.023750  0.009730\n",
              "AGE_YEARS           -0.202398     -0.156772  ...        -0.303801 -0.005167\n",
              "YEARS_EMPLOYED      -0.032177      0.006563  ...         0.054238 -0.006665\n",
              "CNT_FAM_MEMBERS      0.110782      0.151814  ...         1.000000  0.001238\n",
              "STATUS               0.013739     -0.000582  ...         0.001238  1.000000\n",
              "\n",
              "[9 rows x 9 columns]"
            ]
          },
          "metadata": {},
          "execution_count": 37
        }
      ]
    },
    {
      "cell_type": "code",
      "metadata": {
        "colab": {
          "base_uri": "https://localhost:8080/",
          "height": 599
        },
        "id": "IcgIGLHh48B5",
        "outputId": "6e2c1565-2a60-4bdc-8d1a-f5968038f52b"
      },
      "source": [
        "plt.figure(figsize = (8,8))\n",
        "sns.heatmap(df.corr(), annot=True)\n",
        "plt.show()"
      ],
      "execution_count": null,
      "outputs": [
        {
          "output_type": "display_data",
          "data": {
            "image/png": "[encoded data removed]",
            "text/plain": [
              "<Figure size 576x576 with 2 Axes>"
            ]
          },
          "metadata": {
            "needs_background": "light"
          }
        }
      ]
    },
    {
      "cell_type": "code",
      "metadata": {
        "colab": {
          "base_uri": "https://localhost:8080/",
          "height": 204
        },
        "id": "LSLBB3Mg5CVp",
        "outputId": "bc952c35-160b-47c7-f30b-be035d2f5e5a"
      },
      "source": [
        "#Converting all Non-Numerical Columns to Numerical\n",
        "from sklearn.preprocessing import LabelEncoder\n",
        "\n",
        "cat_columns = df.columns[(df.dtypes =='object').values].tolist()\n",
        "cat_columns\n",
        "\n",
        "for col in cat_columns:\n",
        "        globals()['LE_{}'.format(col)] = LabelEncoder()\n",
        "        df[col] = globals()['LE_{}'.format(col)].fit_transform(df[col])\n",
        "df.head()"
      ],
      "execution_count": null,
      "outputs": [
        {
          "output_type": "execute_result",
          "data": {
            "text/html": [
              "<div>\n",
              "<style scoped>\n",
              "    .dataframe tbody tr th:only-of-type {\n",
              "        vertical-align: middle;\n",
              "    }\n",
              "\n",
              "    .dataframe tbody tr th {\n",
              "        vertical-align: top;\n",
              "    }\n",
              "\n",
              "    .dataframe thead th {\n",
              "        text-align: right;\n",
              "    }\n",
              "</style>\n",
              "<table border=\"1\" class=\"dataframe\">\n",
              "  <thead>\n",
              "    <tr style=\"text-align: right;\">\n",
              "      <th></th>\n",
              "      <th>CODE_GENDER</th>\n",
              "      <th>FLAG_OWN_CAR</th>\n",
              "      <th>FLAG_OWN_REALTY</th>\n",
              "      <th>CNT_CHILDREN</th>\n",
              "      <th>AMT_INCOME_TOTAL</th>\n",
              "      <th>NAME_INCOME_TYPE</th>\n",
              "      <th>NAME_EDUCATION_TYPE</th>\n",
              "      <th>NAME_HOUSING_TYPE</th>\n",
              "      <th>AGE_YEARS</th>\n",
              "      <th>YEARS_EMPLOYED</th>\n",
              "      <th>CNT_FAM_MEMBERS</th>\n",
              "      <th>STATUS</th>\n",
              "    </tr>\n",
              "  </thead>\n",
              "  <tbody>\n",
              "    <tr>\n",
              "      <th>0</th>\n",
              "      <td>1</td>\n",
              "      <td>1</td>\n",
              "      <td>1</td>\n",
              "      <td>0</td>\n",
              "      <td>427500.0</td>\n",
              "      <td>4</td>\n",
              "      <td>1</td>\n",
              "      <td>4</td>\n",
              "      <td>33.0</td>\n",
              "      <td>12.0</td>\n",
              "      <td>2.0</td>\n",
              "      <td>0</td>\n",
              "    </tr>\n",
              "    <tr>\n",
              "      <th>1</th>\n",
              "      <td>1</td>\n",
              "      <td>1</td>\n",
              "      <td>1</td>\n",
              "      <td>0</td>\n",
              "      <td>427500.0</td>\n",
              "      <td>4</td>\n",
              "      <td>1</td>\n",
              "      <td>4</td>\n",
              "      <td>33.0</td>\n",
              "      <td>12.0</td>\n",
              "      <td>2.0</td>\n",
              "      <td>0</td>\n",
              "    </tr>\n",
              "    <tr>\n",
              "      <th>2</th>\n",
              "      <td>1</td>\n",
              "      <td>1</td>\n",
              "      <td>1</td>\n",
              "      <td>0</td>\n",
              "      <td>112500.0</td>\n",
              "      <td>4</td>\n",
              "      <td>4</td>\n",
              "      <td>1</td>\n",
              "      <td>59.0</td>\n",
              "      <td>3.0</td>\n",
              "      <td>2.0</td>\n",
              "      <td>0</td>\n",
              "    </tr>\n",
              "    <tr>\n",
              "      <th>3</th>\n",
              "      <td>0</td>\n",
              "      <td>0</td>\n",
              "      <td>1</td>\n",
              "      <td>0</td>\n",
              "      <td>270000.0</td>\n",
              "      <td>0</td>\n",
              "      <td>4</td>\n",
              "      <td>1</td>\n",
              "      <td>52.0</td>\n",
              "      <td>8.0</td>\n",
              "      <td>1.0</td>\n",
              "      <td>0</td>\n",
              "    </tr>\n",
              "    <tr>\n",
              "      <th>4</th>\n",
              "      <td>0</td>\n",
              "      <td>0</td>\n",
              "      <td>1</td>\n",
              "      <td>0</td>\n",
              "      <td>270000.0</td>\n",
              "      <td>0</td>\n",
              "      <td>4</td>\n",
              "      <td>1</td>\n",
              "      <td>52.0</td>\n",
              "      <td>8.0</td>\n",
              "      <td>1.0</td>\n",
              "      <td>0</td>\n",
              "    </tr>\n",
              "  </tbody>\n",
              "</table>\n",
              "</div>"
            ],
            "text/plain": [
              "   CODE_GENDER  FLAG_OWN_CAR  ...  CNT_FAM_MEMBERS  STATUS\n",
              "0            1             1  ...              2.0       0\n",
              "1            1             1  ...              2.0       0\n",
              "2            1             1  ...              2.0       0\n",
              "3            0             0  ...              1.0       0\n",
              "4            0             0  ...              1.0       0\n",
              "\n",
              "[5 rows x 12 columns]"
            ]
          },
          "metadata": {},
          "execution_count": 39
        }
      ]
    },
    {
      "cell_type": "code",
      "metadata": {
        "colab": {
          "base_uri": "https://localhost:8080/"
        },
        "id": "vFuxG7z59CGv",
        "outputId": "8cb685bb-e923-4707-b9f1-92d71d15fcd7"
      },
      "source": [
        "for col in cat_columns:\n",
        "    print(col , \"  : \", globals()['LE_{}'.format(col)].classes_)\n",
        "    "
      ],
      "execution_count": null,
      "outputs": [
        {
          "output_type": "stream",
          "name": "stdout",
          "text": [
            "NAME_INCOME_TYPE   :  ['Commercial associate' 'Pensioner' 'State servant' 'Student' 'Working']\n",
            "NAME_EDUCATION_TYPE   :  ['Academic degree' 'Higher education' 'Incomplete higher'\n",
            " 'Lower secondary' 'Secondary / secondary special']\n",
            "NAME_HOUSING_TYPE   :  ['Co-op apartment' 'House / apartment' 'Municipal apartment'\n",
            " 'Office apartment' 'Rented apartment' 'With parents']\n"
          ]
        }
      ]
    },
    {
      "cell_type": "code",
      "metadata": {
        "colab": {
          "base_uri": "https://localhost:8080/",
          "height": 36
        },
        "id": "Cs3VHy_eHKlz",
        "outputId": "cebd2920-1901-473d-d3c0-94d543f8210d"
      },
      "source": [
        "'''\n",
        "채무 불이행자에 대한 기준은 기관의 기준에 따라 달라질 수 있지만, \n",
        "정해준 기준에 따라 방식.\n",
        "\n",
        "선형회귀로 추정한다.\n",
        "최상의 OLS 추정치를 얻기 위해서는 정규 분포를 가져아 합니다.\n",
        "'''"
      ],
      "execution_count": null,
      "outputs": [
        {
          "output_type": "execute_result",
          "data": {
            "application/vnd.google.colaboratory.intrinsic+json": {
              "type": "string"
            },
            "text/plain": [
              "'\\n채무 불이행자에 대한 기준은 기관의 기준에 따라 달라질 수 있지만, \\n정해준 기준에 따라 방식.\\n\\n선형회귀로 추정한다.\\n최상의 OLS 추정치를 얻기 위해서는 정규 분포를 가져아 합니다.\\n'"
            ]
          },
          "metadata": {},
          "execution_count": 41
        }
      ]
    },
    {
      "cell_type": "code",
      "metadata": {
        "colab": {
          "base_uri": "https://localhost:8080/",
          "height": 71
        },
        "id": "WrGVbxgeKDDS",
        "outputId": "100edf81-5235-4c28-ae0b-26d605c5076c"
      },
      "source": [
        "'''\n",
        "**4) 머신러닝 방식 적용 및 교차검증**\n",
        "\n",
        "모델링과 베이스라인 성능 비교\n",
        "Linear / Tree-based / Ensemble 모델을 학습 (다양하게 시도 ㅊㅊ)\n",
        "평가지표 베이스라인과 비교\n",
        "교차 검증 통해 일반화될 가능성 확인\n",
        "모델 성능을 개선 o Hyperparameter tuning, etc.\n",
        "최소 2개 이상의 모델을 만들어서 validation 점수를 보고\n",
        "최종 모델의 test 점수를 보고하세요.\n",
        "모델을 학습한 후에 베이스라인보다 잘 나왔나요? 그렇지 않다면 그 이유는 무엇일까요?\n",
        "모델 성능 개선을 위해 어떤 방법을 적용했나요? 그 방법을 선택한 이유는 무엇인가요?\n",
        "최종 모델에 관해 설명하세요.\n",
        "'''"
      ],
      "execution_count": null,
      "outputs": [
        {
          "output_type": "execute_result",
          "data": {
            "application/vnd.google.colaboratory.intrinsic+json": {
              "type": "string"
            },
            "text/plain": [
              "'\\n**4) 머신러닝 방식 적용 및 교차검증**\\n\\n모델링과 베이스라인 성능 비교\\nLinear / Tree-based / Ensemble 모델을 학습 (다양하게 시도 ㅊㅊ)\\n평가지표 베이스라인과 비교\\n교차 검증 통해 일반화될 가능성 확인\\n모델 성능을 개선 o Hyperparameter tuning, etc.\\n최소 2개 이상의 모델을 만들어서 validation 점수를 보고\\n최종 모델의 test 점수를 보고하세요.\\n모델을 학습한 후에 베이스라인보다 잘 나왔나요? 그렇지 않다면 그 이유는 무엇일까요?\\n모델 성능 개선을 위해 어떤 방법을 적용했나요? 그 방법을 선택한 이유는 무엇인가요?\\n최종 모델에 관해 설명하세요.\\n'"
            ]
          },
          "metadata": {},
          "execution_count": 42
        }
      ]
    },
    {
      "cell_type": "code",
      "metadata": {
        "colab": {
          "base_uri": "https://localhost:8080/"
        },
        "id": "cq-1PJlsFChd",
        "outputId": "ff963255-0d0e-4795-fd46-904cbbafedde"
      },
      "source": [
        "#모델링과 베이스라인 성능 비교\n",
        "\n",
        "from sklearn.model_selection import train_test_split\n",
        "train, test = train_test_split(df, train_size=0.8, test_size=0.2)\n",
        "print(\"train shape: \", train.shape)\n",
        "print(\"test shape: \", test.shape)\n",
        "\n",
        "train, val = train_test_split(train, train_size=0.8, test_size=0.2)\n",
        "print(\"train shape: \", train.shape)\n",
        "print(\"val shape: \", val.shape)\n",
        "\n",
        "target = 'STATUS'\n",
        "features = df.drop(columns=[target]).columns\n",
        "\n",
        "X_train = train[features]\n",
        "y_train = train[target]\n",
        "X_val = val[features]\n",
        "y_val = val[target]\n",
        "X_test = test[features]\n",
        "y_test = test[target]"
      ],
      "execution_count": null,
      "outputs": [
        {
          "output_type": "stream",
          "name": "stdout",
          "text": [
            "train shape:  (29165, 12)\n",
            "test shape:  (7292, 12)\n",
            "train shape:  (23332, 12)\n",
            "val shape:  (5833, 12)\n"
          ]
        }
      ]
    },
    {
      "cell_type": "code",
      "metadata": {
        "colab": {
          "base_uri": "https://localhost:8080/"
        },
        "id": "pYFCpz25T5x1",
        "outputId": "0e1ebcf4-2f96-49db-ae96-938197ceab3c"
      },
      "source": [
        "print(X_train.shape, y_train.shape)"
      ],
      "execution_count": null,
      "outputs": [
        {
          "output_type": "stream",
          "name": "stdout",
          "text": [
            "(23332, 11) (23332,)\n"
          ]
        }
      ]
    },
    {
      "cell_type": "code",
      "metadata": {
        "colab": {
          "base_uri": "https://localhost:8080/",
          "height": 160
        },
        "id": "RStONAy-I0_5",
        "outputId": "0701a173-7612-4269-9ac3-b7a17d21027c"
      },
      "source": [
        "'''\n",
        "#(분류문제의 기준모델) 범주 0 (majority class)으로 모든 예측을 수행해 보겠습니다.\n",
        "\n",
        "major = df['STATUS'].mode()\n",
        "print(major)\n",
        "\n",
        "# 타겟 샘플 수 만큼 0이 담긴 리스트를 만듭니다. 기준모델로 예측\n",
        "X_pred = [major] * len(X_train)\n",
        "\n",
        "# 이렇게 기준모델로 최다 비율 클래스를 사용할 경우 정확도를 구해 봅시다.\n",
        "# 최다 클래스의 빈도가 정확도가 됩니다.\n",
        "\n",
        "from sklearn.metrics import accuracy_score\n",
        "print(\"training accuracy: \", accuracy_score(X_train, X_pred))\n",
        "\n",
        "X_pred = [major] * len(X_val)\n",
        "print(\"validation accuracy: \", accuracy_score(X_val, X_pred))\n",
        "\n",
        "\n",
        "#Classification metrics can't handle a mix of continuous-multioutput and binary targets\n",
        "#=> 그리하여 randomforest을 베이스 모델로 선정, 그리고 parameter 고치는 방향으로 진행 \n",
        "'''"
      ],
      "execution_count": null,
      "outputs": [
        {
          "output_type": "execute_result",
          "data": {
            "application/vnd.google.colaboratory.intrinsic+json": {
              "type": "string"
            },
            "text/plain": [
              "'\\n#(분류문제의 기준모델) 범주 0 (majority class)으로 모든 예측을 수행해 보겠습니다.\\n\\nmajor = df[\\'STATUS\\'].mode()\\nprint(major)\\n\\n# 타겟 샘플 수 만큼 0이 담긴 리스트를 만듭니다. 기준모델로 예측\\nX_pred = [major] * len(X_train)\\n\\n# 이렇게 기준모델로 최다 비율 클래스를 사용할 경우 정확도를 구해 봅시다.\\n# 최다 클래스의 빈도가 정확도가 됩니다.\\n\\nfrom sklearn.metrics import accuracy_score\\nprint(\"training accuracy: \", accuracy_score(X_train, X_pred))\\n\\nX_pred = [major] * len(X_val)\\nprint(\"validation accuracy: \", accuracy_score(X_val, X_pred))\\n\\n\\n#Classification metrics can\\'t handle a mix of continuous-multioutput and binary targets\\n#=> 그리하여 randomforest을 베이스 모델로 선정, 그리고 parameter 고치는 방향으로 진행 \\n'"
            ]
          },
          "metadata": {},
          "execution_count": 45
        }
      ]
    },
    {
      "cell_type": "code",
      "metadata": {
        "colab": {
          "base_uri": "https://localhost:8080/"
        },
        "id": "gD9Q-k6wOYQU",
        "outputId": "4488150f-305f-4e2b-e699-9128a035c9d2"
      },
      "source": [
        "# logistic regression 부터\n",
        "#!pip install category_encoders\n",
        "from category_encoders import OrdinalEncoder\n",
        "from category_encoders import OneHotEncoder\n",
        "from sklearn.impute import SimpleImputer\n",
        "from sklearn.preprocessing import StandardScaler\n",
        "from sklearn.linear_model import LogisticRegression\n",
        "from sklearn.pipeline import make_pipeline\n",
        "from sklearn.ensemble import RandomForestClassifier\n",
        "from sklearn.model_selection import cross_validate\n",
        "from sklearn.metrics import accuracy_score,balanced_accuracy_score,confusion_matrix\n",
        "from sklearn.metrics import plot_confusion_matrix\n",
        "import matplotlib.pyplot as plt\n",
        "from sklearn.metrics import classification_report, accuracy_score, confusion_matrix\n",
        "\n",
        "model = LogisticRegression\n",
        "pipe_log = make_pipeline(\n",
        "OrdinalEncoder(),\n",
        "StandardScaler(),\n",
        "model()\n",
        ")\n",
        "pipe_log.fit(X_train, y_train)\n",
        "\n",
        "print('훈련 정확도: ', pipe_log.score(X_train, y_train))\n",
        "print('검증 정확도', pipe_log.score(X_val, y_val))\n",
        "\n",
        "\n",
        "y_pred = pipe_log.predict(X_test)\n",
        "print('\\n Confusion matrix:')\n",
        "print(confusion_matrix(y_test, y_pred))\n",
        "\n",
        "print('\\n Classification report:')\n",
        "print(classification_report(y_test, y_pred))\n",
        "\n",
        "# 학습데이터의 이상 맞추면서 검증세트의 정확도는 다수범주(0)의 비율과 같게 나오는 것을 확인 할 수 있음\n",
        "#=> 과적합"
      ],
      "execution_count": null,
      "outputs": [
        {
          "output_type": "stream",
          "name": "stdout",
          "text": [
            "훈련 정확도:  0.9890708040459455\n",
            "검증 정확도 0.9909137665009429\n",
            "\n",
            " Confusion matrix:\n",
            "[[7218    0]\n",
            " [  74    0]]\n",
            "\n",
            " Classification report:\n",
            "              precision    recall  f1-score   support\n",
            "\n",
            "           0       0.99      1.00      0.99      7218\n",
            "           1       0.00      0.00      0.00        74\n",
            "\n",
            "    accuracy                           0.99      7292\n",
            "   macro avg       0.49      0.50      0.50      7292\n",
            "weighted avg       0.98      0.99      0.98      7292\n",
            "\n"
          ]
        },
        {
          "output_type": "stream",
          "name": "stderr",
          "text": [
            "/usr/local/lib/python3.7/dist-packages/sklearn/metrics/_classification.py:1272: UndefinedMetricWarning: Precision and F-score are ill-defined and being set to 0.0 in labels with no predicted samples. Use `zero_division` parameter to control this behavior.\n",
            "  _warn_prf(average, modifier, msg_start, len(result))\n"
          ]
        }
      ]
    },
    {
      "cell_type": "code",
      "metadata": {
        "colab": {
          "base_uri": "https://localhost:8080/"
        },
        "id": "GRH3VW-6-3ZG",
        "outputId": "19a9cb32-4f68-414e-97fe-8a3e83c9d7c0"
      },
      "source": [
        "from sklearn.tree import DecisionTreeClassifier\n",
        "\n",
        "\n",
        "pipe_det = make_pipeline(\n",
        "OrdinalEncoder(),\n",
        "SimpleImputer(),\n",
        "DecisionTreeClassifier(random_state=10, max_depth=15, class_weight=\"balanced\"))\n",
        "\n",
        "pipe_det.fit(X_train, y_train)\n",
        "\n",
        "print('훈련 정확도: ', pipe_det.score(X_train, y_train))\n",
        "print('검증 정확도', pipe_det.score(X_val, y_val))\n",
        "\n",
        "y_pred = pipe_det.predict(X_test)\n",
        "print('\\n Confusion matrix:')\n",
        "print(confusion_matrix(y_test, y_pred))\n",
        "\n",
        "print('\\n Classification report:')\n",
        "print(classification_report(y_test, y_pred))\n"
      ],
      "execution_count": null,
      "outputs": [
        {
          "output_type": "stream",
          "name": "stdout",
          "text": [
            "훈련 정확도:  0.870049717126693\n",
            "검증 정확도 0.8638779358820504\n",
            "\n",
            " Confusion matrix:\n",
            "[[6248  970]\n",
            " [  61   13]]\n",
            "\n",
            " Classification report:\n",
            "              precision    recall  f1-score   support\n",
            "\n",
            "           0       0.99      0.87      0.92      7218\n",
            "           1       0.01      0.18      0.02        74\n",
            "\n",
            "    accuracy                           0.86      7292\n",
            "   macro avg       0.50      0.52      0.47      7292\n",
            "weighted avg       0.98      0.86      0.91      7292\n",
            "\n"
          ]
        }
      ]
    },
    {
      "cell_type": "code",
      "metadata": {
        "colab": {
          "base_uri": "https://localhost:8080/"
        },
        "id": "ox0sfxToAKou",
        "outputId": "0cfc4c05-9da4-4022-fda5-4597aa0a4a79"
      },
      "source": [
        "from sklearn.ensemble import RandomForestClassifier\n",
        "\n",
        "pipe_raf = make_pipeline(\n",
        "OrdinalEncoder(),\n",
        "SimpleImputer(),\n",
        "RandomForestClassifier(random_state=10, max_depth=15, class_weight=\"balanced\"))\n",
        "\n",
        "pipe_raf.fit(X_train, y_train)\n",
        "\n",
        "print('훈련 정확도: ', pipe_raf.score(X_train, y_train))\n",
        "print('검증 정확도', pipe_raf.score(X_val, y_val))\n",
        "\n",
        "y_pred = pipe_raf.predict(X_test)\n",
        "print('\\n Confusion matrix:')\n",
        "print(confusion_matrix(y_test, y_pred))\n",
        "\n",
        "print('\\n Classification report:')\n",
        "print(classification_report(y_test, y_pred))\n"
      ],
      "execution_count": null,
      "outputs": [
        {
          "output_type": "stream",
          "name": "stdout",
          "text": [
            "훈련 정확도:  0.9721841248071318\n",
            "검증 정확도 0.9651980113149323\n",
            "\n",
            " Confusion matrix:\n",
            "[[7016  202]\n",
            " [  65    9]]\n",
            "\n",
            " Classification report:\n",
            "              precision    recall  f1-score   support\n",
            "\n",
            "           0       0.99      0.97      0.98      7218\n",
            "           1       0.04      0.12      0.06        74\n",
            "\n",
            "    accuracy                           0.96      7292\n",
            "   macro avg       0.52      0.55      0.52      7292\n",
            "weighted avg       0.98      0.96      0.97      7292\n",
            "\n"
          ]
        }
      ]
    },
    {
      "cell_type": "code",
      "metadata": {
        "id": "zl8XLHOePmKQ",
        "colab": {
          "base_uri": "https://localhost:8080/",
          "height": 281
        },
        "outputId": "5611adf8-6862-4d6b-ce1e-3d05e4a2bac8"
      },
      "source": [
        "#랜덤포레스트에서 확인 가능한 특성중요도를 확인, 특성중요도를 통해 특성이 얼마나 일찍 그리고 자주 분기에 사용되는 것을 확인 가능\n",
        "\n",
        "# 특성 중요도(ordinal)\n",
        "raf_ord = pipe_raf.named_steps['randomforestclassifier']\n",
        "importances_ord = pd.Series(raf_ord.feature_importances_, X_train.columns)\n",
        "plt.figure(figsize=(10,4))\n",
        "plt.title(f'Top features with ordinalencoder')\n",
        "importances_ord.sort_values()[:].plot.barh();"
      ],
      "execution_count": null,
      "outputs": [
        {
          "output_type": "display_data",
          "data": {
            "image/png": "[encoded data removed]",
            "text/plain": [
              "<Figure size 720x288 with 1 Axes>"
            ]
          },
          "metadata": {
            "needs_background": "light"
          }
        }
      ]
    },
    {
      "cell_type": "code",
      "metadata": {
        "colab": {
          "base_uri": "https://localhost:8080/"
        },
        "id": "AjO9TmruBwN-",
        "outputId": "f5d29605-88e8-42ec-d72a-847b856a835d"
      },
      "source": [
        "# XGBoost  classification\n",
        "\n",
        "from xgboost import XGBClassifier\n",
        "from xgboost import XGBClassifier\n",
        "\n",
        "pipe_xgb = make_pipeline(\n",
        "OrdinalEncoder(),\n",
        "XGBClassifier(n_estimators=200\n",
        ", random_state=2\n",
        ", n_jobs=-1\n",
        ", max_depth=7\n",
        ", learning_rate=0.2\n",
        ")\n",
        ")\n",
        "pipe_xgb.fit(X_train, y_train)\n",
        "\n",
        "print('훈련 정확도: ', pipe_xgb.score(X_train, y_train))\n",
        "print('검증 정확도', pipe_xgb.score(X_val, y_val))\n",
        "\n",
        "y_pred = pipe_xgb.predict(X_test)\n",
        "print('\\n Confusion matrix:')\n",
        "print(confusion_matrix(y_test, y_pred))\n",
        "\n",
        "print('\\n Classification report:')\n",
        "print(classification_report(y_test, y_pred))"
      ],
      "execution_count": null,
      "outputs": [
        {
          "output_type": "stream",
          "name": "stdout",
          "text": [
            "훈련 정확도:  0.9915566603805932\n",
            "검증 정확도 0.9898851362935025\n",
            "\n",
            " Confusion matrix:\n",
            "[[7208   10]\n",
            " [  71    3]]\n",
            "\n",
            " Classification report:\n",
            "              precision    recall  f1-score   support\n",
            "\n",
            "           0       0.99      1.00      0.99      7218\n",
            "           1       0.23      0.04      0.07        74\n",
            "\n",
            "    accuracy                           0.99      7292\n",
            "   macro avg       0.61      0.52      0.53      7292\n",
            "weighted avg       0.98      0.99      0.99      7292\n",
            "\n"
          ]
        }
      ]
    },
    {
      "cell_type": "code",
      "metadata": {
        "colab": {
          "base_uri": "https://localhost:8080/"
        },
        "id": "_5v3clPECRRS",
        "outputId": "ff878364-5513-499a-8cc2-c39040902c5a"
      },
      "source": [
        "#속상 ㅠ 파라미터를 바꿔보자\n",
        "\n",
        "encoder = OrdinalEncoder()\n",
        "X_train_encoded = encoder.fit_transform(X_train) # 학습데이터\n",
        "X_val_encoded = encoder.transform(X_val) # 검증데이터\n",
        "model = XGBClassifier(\n",
        "n_estimators=1000, # <= 1000 트리로 설정했지만, early stopping 에 따라 조절됩니다.\n",
        "max_depth=7, # default=3, high cardinality 특성을 위해 기본보다 높여 보았습니다.\n",
        "learning_rate=0.2,\n",
        "# scale_pos_weight=ratio, # imbalance 데이터 일 경우 비율을 적용합니다.\n",
        "n_jobs=-1\n",
        ")\n",
        "eval_set = [(X_train_encoded, y_train),\n",
        "(X_val_encoded, y_val)]\n",
        "model.fit(X_train_encoded, y_train,\n",
        "eval_set=eval_set,\n",
        "eval_metric='error', # #(wrong cases)/#(all cases)\n",
        "early_stopping_rounds=50\n",
        ")\n",
        "\n",
        "print('검증 정확도', model.score(X_val_encoded, y_val))\n",
        "print(classification_report(y_val, model.predict(X_val_encoded)))\n",
        "\n"
      ],
      "execution_count": null,
      "outputs": [
        {
          "output_type": "stream",
          "name": "stdout",
          "text": [
            "[0]\tvalidation_0-error:0.010929\tvalidation_1-error:0.009086\n",
            "Multiple eval metrics have been passed: 'validation_1-error' will be used for early stopping.\n",
            "\n",
            "Will train until validation_1-error hasn't improved in 50 rounds.\n",
            "[1]\tvalidation_0-error:0.010929\tvalidation_1-error:0.009086\n",
            "[2]\tvalidation_0-error:0.010929\tvalidation_1-error:0.009086\n",
            "[3]\tvalidation_0-error:0.010929\tvalidation_1-error:0.009086\n",
            "[4]\tvalidation_0-error:0.010929\tvalidation_1-error:0.009086\n",
            "[5]\tvalidation_0-error:0.010929\tvalidation_1-error:0.009086\n",
            "[6]\tvalidation_0-error:0.010929\tvalidation_1-error:0.009086\n",
            "[7]\tvalidation_0-error:0.010929\tvalidation_1-error:0.009086\n",
            "[8]\tvalidation_0-error:0.010929\tvalidation_1-error:0.009086\n",
            "[9]\tvalidation_0-error:0.010929\tvalidation_1-error:0.009086\n",
            "[10]\tvalidation_0-error:0.010929\tvalidation_1-error:0.009086\n",
            "[11]\tvalidation_0-error:0.010929\tvalidation_1-error:0.009086\n",
            "[12]\tvalidation_0-error:0.010929\tvalidation_1-error:0.009086\n",
            "[13]\tvalidation_0-error:0.010929\tvalidation_1-error:0.009086\n",
            "[14]\tvalidation_0-error:0.010929\tvalidation_1-error:0.009086\n",
            "[15]\tvalidation_0-error:0.010758\tvalidation_1-error:0.009258\n",
            "[16]\tvalidation_0-error:0.010758\tvalidation_1-error:0.009258\n",
            "[17]\tvalidation_0-error:0.010758\tvalidation_1-error:0.009258\n",
            "[18]\tvalidation_0-error:0.010758\tvalidation_1-error:0.009258\n",
            "[19]\tvalidation_0-error:0.010758\tvalidation_1-error:0.009258\n",
            "[20]\tvalidation_0-error:0.010758\tvalidation_1-error:0.009258\n",
            "[21]\tvalidation_0-error:0.010758\tvalidation_1-error:0.009258\n",
            "[22]\tvalidation_0-error:0.010758\tvalidation_1-error:0.009258\n",
            "[23]\tvalidation_0-error:0.010758\tvalidation_1-error:0.009258\n",
            "[24]\tvalidation_0-error:0.010758\tvalidation_1-error:0.009258\n",
            "[25]\tvalidation_0-error:0.010758\tvalidation_1-error:0.009258\n",
            "[26]\tvalidation_0-error:0.010758\tvalidation_1-error:0.009258\n",
            "[27]\tvalidation_0-error:0.010758\tvalidation_1-error:0.009258\n",
            "[28]\tvalidation_0-error:0.010672\tvalidation_1-error:0.009258\n",
            "[29]\tvalidation_0-error:0.010629\tvalidation_1-error:0.009601\n",
            "[30]\tvalidation_0-error:0.010629\tvalidation_1-error:0.009601\n",
            "[31]\tvalidation_0-error:0.010629\tvalidation_1-error:0.009601\n",
            "[32]\tvalidation_0-error:0.010629\tvalidation_1-error:0.009601\n",
            "[33]\tvalidation_0-error:0.010629\tvalidation_1-error:0.009601\n",
            "[34]\tvalidation_0-error:0.010629\tvalidation_1-error:0.009601\n",
            "[35]\tvalidation_0-error:0.010543\tvalidation_1-error:0.009601\n",
            "[36]\tvalidation_0-error:0.010543\tvalidation_1-error:0.009601\n",
            "[37]\tvalidation_0-error:0.010543\tvalidation_1-error:0.009601\n",
            "[38]\tvalidation_0-error:0.010543\tvalidation_1-error:0.009601\n",
            "[39]\tvalidation_0-error:0.010543\tvalidation_1-error:0.009601\n",
            "[40]\tvalidation_0-error:0.010543\tvalidation_1-error:0.009601\n",
            "[41]\tvalidation_0-error:0.010543\tvalidation_1-error:0.009601\n",
            "[42]\tvalidation_0-error:0.010543\tvalidation_1-error:0.009601\n",
            "[43]\tvalidation_0-error:0.010543\tvalidation_1-error:0.009601\n",
            "[44]\tvalidation_0-error:0.010543\tvalidation_1-error:0.009601\n",
            "[45]\tvalidation_0-error:0.010415\tvalidation_1-error:0.009601\n",
            "[46]\tvalidation_0-error:0.010415\tvalidation_1-error:0.009601\n",
            "[47]\tvalidation_0-error:0.010415\tvalidation_1-error:0.009601\n",
            "[48]\tvalidation_0-error:0.010415\tvalidation_1-error:0.009601\n",
            "[49]\tvalidation_0-error:0.010243\tvalidation_1-error:0.009601\n",
            "[50]\tvalidation_0-error:0.010243\tvalidation_1-error:0.009601\n",
            "Stopping. Best iteration:\n",
            "[0]\tvalidation_0-error:0.010929\tvalidation_1-error:0.009086\n",
            "\n",
            "검증 정확도 0.9909137665009429\n",
            "              precision    recall  f1-score   support\n",
            "\n",
            "           0       0.99      1.00      1.00      5780\n",
            "           1       0.00      0.00      0.00        53\n",
            "\n",
            "    accuracy                           0.99      5833\n",
            "   macro avg       0.50      0.50      0.50      5833\n",
            "weighted avg       0.98      0.99      0.99      5833\n",
            "\n"
          ]
        },
        {
          "output_type": "stream",
          "name": "stderr",
          "text": [
            "/usr/local/lib/python3.7/dist-packages/sklearn/metrics/_classification.py:1272: UndefinedMetricWarning: Precision and F-score are ill-defined and being set to 0.0 in labels with no predicted samples. Use `zero_division` parameter to control this behavior.\n",
            "  _warn_prf(average, modifier, msg_start, len(result))\n"
          ]
        }
      ]
    },
    {
      "cell_type": "code",
      "metadata": {
        "id": "MB7AK7DuDnR3"
      },
      "source": [
        "#Model Accuracy 각각 나열하기 "
      ],
      "execution_count": null,
      "outputs": []
    },
    {
      "cell_type": "code",
      "metadata": {
        "id": "zBSqmD5Y05ud"
      },
      "source": [
        "#data balancing 도전 \n",
        "\n",
        "from sklearn.preprocessing import MinMaxScaler\n",
        "MMS = MinMaxScaler()\n",
        "X_train_scaled = pd.DataFrame(MMS.fit_transform(X_train), columns=X_train.columns)\n",
        "X_val_scaled = pd.DataFrame(MMS.transform(X_val), columns=X_val.columns)\n",
        "X_test_scaled = pd.DataFrame(MMS.transform(X_test), columns=X_test.columns)\n",
        "\n"
      ],
      "execution_count": null,
      "outputs": []
    },
    {
      "cell_type": "code",
      "metadata": {
        "colab": {
          "base_uri": "https://localhost:8080/"
        },
        "id": "RL5D8dxtEOe8",
        "outputId": "c57ac2c7-31f5-4c4e-86a6-d29a5e8e7ff6"
      },
      "source": [
        "import imblearn\n",
        "from imblearn.over_sampling import SMOTE\n",
        "from collections import Counter\n",
        "\n",
        "oversample = SMOTE()\n",
        "\n",
        "#train data oversampling 바꾸기\n",
        "X_train_over, y_train_over = oversample.fit_resample(X_train_scaled, y_train)\n",
        "print(Counter(y_train_over))\n",
        "\n",
        "#val data oversampling 바꾸기\n",
        "X_val_over, y_val_over = oversample.fit_resample(X_val_scaled, y_val)\n",
        "print(Counter(y_val_over))\n",
        "\n",
        "#test data oversampling 바꾸기\n",
        "X_test_over, y_test_over = oversample.fit_resample(X_test_scaled, y_test)\n",
        "print(Counter(y_test_over))"
      ],
      "execution_count": null,
      "outputs": [
        {
          "output_type": "stream",
          "name": "stderr",
          "text": [
            "/usr/local/lib/python3.7/dist-packages/sklearn/externals/six.py:31: FutureWarning: The module is deprecated in version 0.21 and will be removed in version 0.23 since we've dropped support for Python 2.7. Please rely on the official version of six (https://pypi.org/project/six/).\n",
            "  \"(https://pypi.org/project/six/).\", FutureWarning)\n",
            "/usr/local/lib/python3.7/dist-packages/sklearn/utils/deprecation.py:144: FutureWarning: The sklearn.neighbors.base module is  deprecated in version 0.22 and will be removed in version 0.24. The corresponding classes / functions should instead be imported from sklearn.neighbors. Anything that cannot be imported from sklearn.neighbors is now part of the private API.\n",
            "  warnings.warn(message, FutureWarning)\n",
            "/usr/local/lib/python3.7/dist-packages/sklearn/utils/deprecation.py:87: FutureWarning: Function safe_indexing is deprecated; safe_indexing is deprecated in version 0.22 and will be removed in version 0.24.\n",
            "  warnings.warn(msg, category=FutureWarning)\n",
            "/usr/local/lib/python3.7/dist-packages/sklearn/utils/deprecation.py:87: FutureWarning: Function safe_indexing is deprecated; safe_indexing is deprecated in version 0.22 and will be removed in version 0.24.\n",
            "  warnings.warn(msg, category=FutureWarning)\n"
          ]
        },
        {
          "output_type": "stream",
          "name": "stdout",
          "text": [
            "Counter({0: 23077, 1: 23077})\n",
            "Counter({0: 5780, 1: 5780})\n",
            "Counter({0: 7218, 1: 7218})\n"
          ]
        },
        {
          "output_type": "stream",
          "name": "stderr",
          "text": [
            "/usr/local/lib/python3.7/dist-packages/sklearn/utils/deprecation.py:87: FutureWarning: Function safe_indexing is deprecated; safe_indexing is deprecated in version 0.22 and will be removed in version 0.24.\n",
            "  warnings.warn(msg, category=FutureWarning)\n"
          ]
        }
      ]
    },
    {
      "cell_type": "code",
      "metadata": {
        "colab": {
          "base_uri": "https://localhost:8080/"
        },
        "id": "oX1g-KtMFs14",
        "outputId": "57d38b04-ec69-4b78-8cc2-2165825ea852"
      },
      "source": [
        "pipe_log = make_pipeline(\n",
        "OrdinalEncoder(),\n",
        "StandardScaler(),\n",
        "LogisticRegression()\n",
        ")\n",
        "pipe_log.fit(X_train_over, y_train_over)\n",
        "\n",
        "print('훈련 정확도: ', pipe_log.score(X_train_over, y_train_over))\n",
        "print('검증 정확도', pipe_log.score(X_val_over, y_val_over))\n",
        "\n",
        "\n",
        "y_pred = pipe_log.predict(X_test_over)\n",
        "print('\\n Confusion matrix:')\n",
        "print(confusion_matrix(y_test_over, y_pred))\n",
        "\n",
        "print('\\n Classification report:')\n",
        "print(classification_report(y_test_over, y_pred))\n"
      ],
      "execution_count": null,
      "outputs": [
        {
          "output_type": "stream",
          "name": "stdout",
          "text": [
            "훈련 정확도:  0.568336438878537\n",
            "검증 정확도 0.46695501730103806\n",
            "\n",
            " Confusion matrix:\n",
            "[[3787 3431]\n",
            " [4288 2930]]\n",
            "\n",
            " Classification report:\n",
            "              precision    recall  f1-score   support\n",
            "\n",
            "           0       0.47      0.52      0.50      7218\n",
            "           1       0.46      0.41      0.43      7218\n",
            "\n",
            "    accuracy                           0.47     14436\n",
            "   macro avg       0.46      0.47      0.46     14436\n",
            "weighted avg       0.46      0.47      0.46     14436\n",
            "\n"
          ]
        }
      ]
    },
    {
      "cell_type": "code",
      "metadata": {
        "colab": {
          "base_uri": "https://localhost:8080/"
        },
        "id": "9KdDKRoSF4I8",
        "outputId": "55036b13-0bef-4cb6-fa6d-fb1823ba37ae"
      },
      "source": [
        "from sklearn.tree import DecisionTreeClassifier\n",
        "\n",
        "\n",
        "pipe_det = make_pipeline(\n",
        "OrdinalEncoder(),\n",
        "SimpleImputer(),\n",
        "DecisionTreeClassifier(random_state=10, max_depth=15, class_weight=\"balanced\"))\n",
        "\n",
        "pipe_det.fit(X_train_over, y_train_over)\n",
        "\n",
        "print('훈련 정확도: ', pipe_det.score(X_train_over, y_train_over))\n",
        "print('검증 정확도', pipe_det.score(X_val_over, y_val_over))\n",
        "\n",
        "y_pred = pipe_det.predict(X_test_over)\n",
        "print('\\n Confusion matrix:')\n",
        "print(confusion_matrix(y_test_over, y_pred))\n",
        "\n",
        "print('\\n Classification report:')\n",
        "print(classification_report(y_test_over, y_pred))\n"
      ],
      "execution_count": null,
      "outputs": [
        {
          "output_type": "stream",
          "name": "stdout",
          "text": [
            "훈련 정확도:  0.9716384278719071\n",
            "검증 정확도 0.8890138408304499\n",
            "\n",
            " Confusion matrix:\n",
            "[[7001  217]\n",
            " [1978 5240]]\n",
            "\n",
            " Classification report:\n",
            "              precision    recall  f1-score   support\n",
            "\n",
            "           0       0.78      0.97      0.86      7218\n",
            "           1       0.96      0.73      0.83      7218\n",
            "\n",
            "    accuracy                           0.85     14436\n",
            "   macro avg       0.87      0.85      0.85     14436\n",
            "weighted avg       0.87      0.85      0.85     14436\n",
            "\n"
          ]
        }
      ]
    },
    {
      "cell_type": "code",
      "metadata": {
        "colab": {
          "base_uri": "https://localhost:8080/",
          "height": 239
        },
        "id": "joS4UsNdbdPt",
        "outputId": "3b8c1ff2-ed0b-491c-928b-08bd08c1b1c5"
      },
      "source": [
        "dfz=pd.DataFrame({'features':X_train_over.columns,'importances':tree.feature_importances_})\n",
        "dfz.sort_values('importances',inplace=True)\n",
        "dfz.plot(kind='barh', title = 'Decision Tree Classifier\\nFeature Importances', y='importances',x='features',color='brown', figsize=(12,22))"
      ],
      "execution_count": null,
      "outputs": [
        {
          "output_type": "error",
          "ename": "NameError",
          "evalue": "ignored",
          "traceback": [
            "\u001b[0;31m---------------------------------------------------------------------------\u001b[0m",
            "\u001b[0;31mNameError\u001b[0m                                 Traceback (most recent call last)",
            "\u001b[0;32m<ipython-input-58-43ac0b9c2b11>\u001b[0m in \u001b[0;36m<module>\u001b[0;34m()\u001b[0m\n\u001b[0;32m----> 1\u001b[0;31m \u001b[0mdfz\u001b[0m\u001b[0;34m=\u001b[0m\u001b[0mpd\u001b[0m\u001b[0;34m.\u001b[0m\u001b[0mDataFrame\u001b[0m\u001b[0;34m(\u001b[0m\u001b[0;34m{\u001b[0m\u001b[0;34m'features'\u001b[0m\u001b[0;34m:\u001b[0m\u001b[0mfeatures_train\u001b[0m\u001b[0;34m.\u001b[0m\u001b[0mcolumns\u001b[0m\u001b[0;34m,\u001b[0m\u001b[0;34m'importances'\u001b[0m\u001b[0;34m:\u001b[0m\u001b[0mtree\u001b[0m\u001b[0;34m.\u001b[0m\u001b[0mfeature_importances_\u001b[0m\u001b[0;34m}\u001b[0m\u001b[0;34m)\u001b[0m\u001b[0;34m\u001b[0m\u001b[0;34m\u001b[0m\u001b[0m\n\u001b[0m\u001b[1;32m      2\u001b[0m \u001b[0mdfz\u001b[0m\u001b[0;34m.\u001b[0m\u001b[0msort_values\u001b[0m\u001b[0;34m(\u001b[0m\u001b[0;34m'importances'\u001b[0m\u001b[0;34m,\u001b[0m\u001b[0minplace\u001b[0m\u001b[0;34m=\u001b[0m\u001b[0;32mTrue\u001b[0m\u001b[0;34m)\u001b[0m\u001b[0;34m\u001b[0m\u001b[0;34m\u001b[0m\u001b[0m\n\u001b[1;32m      3\u001b[0m \u001b[0mdfz\u001b[0m\u001b[0;34m.\u001b[0m\u001b[0mplot\u001b[0m\u001b[0;34m(\u001b[0m\u001b[0mkind\u001b[0m\u001b[0;34m=\u001b[0m\u001b[0;34m'barh'\u001b[0m\u001b[0;34m,\u001b[0m \u001b[0mtitle\u001b[0m \u001b[0;34m=\u001b[0m \u001b[0;34m'Decision Tree Classifier\\nFeature Importances'\u001b[0m\u001b[0;34m,\u001b[0m \u001b[0my\u001b[0m\u001b[0;34m=\u001b[0m\u001b[0;34m'importances'\u001b[0m\u001b[0;34m,\u001b[0m\u001b[0mx\u001b[0m\u001b[0;34m=\u001b[0m\u001b[0;34m'features'\u001b[0m\u001b[0;34m,\u001b[0m\u001b[0mcolor\u001b[0m\u001b[0;34m=\u001b[0m\u001b[0;34m'brown'\u001b[0m\u001b[0;34m,\u001b[0m \u001b[0mfigsize\u001b[0m\u001b[0;34m=\u001b[0m\u001b[0;34m(\u001b[0m\u001b[0;36m12\u001b[0m\u001b[0;34m,\u001b[0m\u001b[0;36m22\u001b[0m\u001b[0;34m)\u001b[0m\u001b[0;34m)\u001b[0m\u001b[0;34m\u001b[0m\u001b[0;34m\u001b[0m\u001b[0m\n",
            "\u001b[0;31mNameError\u001b[0m: name 'features_train' is not defined"
          ]
        }
      ]
    },
    {
      "cell_type": "code",
      "metadata": {
        "colab": {
          "base_uri": "https://localhost:8080/"
        },
        "id": "AyocbX82GWxC",
        "outputId": "26eed371-df07-4613-fc6e-b7640d44a212"
      },
      "source": [
        "from sklearn.ensemble import RandomForestClassifier\n",
        "\n",
        "pipe_raf = make_pipeline(\n",
        "OrdinalEncoder(),\n",
        "SimpleImputer(),\n",
        "RandomForestClassifier(random_state=10, max_depth=15, class_weight=\"balanced\"))\n",
        "\n",
        "pipe_raf.fit(X_train_over, y_train_over)\n",
        "\n",
        "print('훈련 정확도: ', pipe_raf.score(X_train_over, y_train_over))\n",
        "print('검증 정확도', pipe_raf.score(X_val_over, y_val_over))\n",
        "\n",
        "y_pred = pipe_raf.predict(X_test_over)\n",
        "print('\\n Confusion matrix:')\n",
        "print(confusion_matrix(y_test_over, y_pred))\n",
        "\n",
        "print('\\n Classification report:')\n",
        "print(classification_report(y_test_over, y_pred))\n"
      ],
      "execution_count": null,
      "outputs": [
        {
          "output_type": "stream",
          "name": "stdout",
          "text": [
            "훈련 정확도:  0.9798934003553321\n",
            "검증 정확도 0.8444636678200692\n",
            "\n",
            " Confusion matrix:\n",
            "[[7000  218]\n",
            " [2152 5066]]\n",
            "\n",
            " Classification report:\n",
            "              precision    recall  f1-score   support\n",
            "\n",
            "           0       0.76      0.97      0.86      7218\n",
            "           1       0.96      0.70      0.81      7218\n",
            "\n",
            "    accuracy                           0.84     14436\n",
            "   macro avg       0.86      0.84      0.83     14436\n",
            "weighted avg       0.86      0.84      0.83     14436\n",
            "\n"
          ]
        }
      ]
    },
    {
      "cell_type": "code",
      "metadata": {
        "id": "ngLJoMC5N3sk",
        "outputId": "565cdd68-5be4-4583-d698-788db128f8df",
        "colab": {
          "base_uri": "https://localhost:8080/",
          "height": 281
        }
      },
      "source": [
        "raf_ord = pipe_raf.named_steps['randomforestclassifier']\n",
        "importances_ord = pd.Series(raf_ord.feature_importances_, X_train.columns)\n",
        "plt.figure(figsize=(10,4))\n",
        "plt.title(f'Top features with ordinalencoder')\n",
        "importances_ord.sort_values()[:].plot.barh();"
      ],
      "execution_count": null,
      "outputs": [
        {
          "output_type": "display_data",
          "data": {
            "image/png": "[encoded data removed]",
            "text/plain": [
              "<Figure size 720x288 with 1 Axes>"
            ]
          },
          "metadata": {
            "needs_background": "light"
          }
        }
      ]
    },
    {
      "cell_type": "code",
      "metadata": {
        "colab": {
          "base_uri": "https://localhost:8080/"
        },
        "id": "eFfWIxyCGk63",
        "outputId": "19dd333c-7703-470e-c562-ec95ebfac6a0"
      },
      "source": [
        "# XGBoost  classification\n",
        "from xgboost import XGBClassifier\n",
        "\n",
        "pipe_xgb = make_pipeline(\n",
        "OrdinalEncoder(),\n",
        "XGBClassifier(n_estimators=200\n",
        ", random_state=2\n",
        ", n_jobs=-1\n",
        ", max_depth=7\n",
        ", learning_rate=0.2\n",
        ")\n",
        ")\n",
        "pipe_xgb.fit(X_train_over, y_train_over)\n",
        "\n",
        "print('훈련 정확도: ', pipe_xgb.score(X_train_over, y_train_over))\n",
        "print('검증 정확도', pipe_xgb.score(X_val_over, y_val_over))\n",
        "\n",
        "y_pred = pipe_xgb.predict(X_test_over)\n",
        "print('\\n Confusion matrix:')\n",
        "print(confusion_matrix(y_test_over, y_pred))\n",
        "\n",
        "print('\\n Classification report:')\n",
        "print(classification_report(y_test_over, y_pred))"
      ],
      "execution_count": null,
      "outputs": [
        {
          "output_type": "stream",
          "name": "stdout",
          "text": [
            "훈련 정확도:  0.9944750184166052\n",
            "검증 정확도 0.9686851211072665\n",
            "\n",
            " Confusion matrix:\n",
            "[[7191   27]\n",
            " [ 616 6602]]\n",
            "\n",
            " Classification report:\n",
            "              precision    recall  f1-score   support\n",
            "\n",
            "           0       0.92      1.00      0.96      7218\n",
            "           1       1.00      0.91      0.95      7218\n",
            "\n",
            "    accuracy                           0.96     14436\n",
            "   macro avg       0.96      0.96      0.96     14436\n",
            "weighted avg       0.96      0.96      0.96     14436\n",
            "\n"
          ]
        }
      ]
    },
    {
      "cell_type": "code",
      "metadata": {
        "colab": {
          "base_uri": "https://localhost:8080/",
          "height": 315
        },
        "id": "NkTiAAqC7MkC",
        "outputId": "e9663bfe-ed3a-4492-cd1a-6130de6f2b62"
      },
      "source": [
        "from sklearn.metrics import plot_confusion_matrix\n",
        "import matplotlib.pyplot as plt\n",
        "fig, ax = plt.subplots()\n",
        "pcm = plot_confusion_matrix(pipe_xgb, X_test_over, y_test_over,\n",
        "cmap=plt.cm.Blues, values_format = '.5f',\n",
        "ax=ax);\n",
        "plt.title(f'Confusion matrix, n = {len(y_val_over)}', fontsize=15)\n"
      ],
      "execution_count": null,
      "outputs": [
        {
          "output_type": "execute_result",
          "data": {
            "text/plain": [
              "Text(0.5, 1.0, 'Confusion matrix, n = 11560')"
            ]
          },
          "metadata": {},
          "execution_count": 74
        },
        {
          "output_type": "display_data",
          "data": {
            "image/png": "[encoded data removed]",
            "text/plain": [
              "<Figure size 432x288 with 2 Axes>"
            ]
          },
          "metadata": {
            "needs_background": "light"
          }
        }
      ]
    },
    {
      "cell_type": "code",
      "metadata": {
        "id": "Ta5JA6SUKGkk"
      },
      "source": [
        ""
      ],
      "execution_count": null,
      "outputs": []
    },
    {
      "cell_type": "code",
      "metadata": {
        "colab": {
          "base_uri": "https://localhost:8080/"
        },
        "id": "wJpBP12q6rNK",
        "outputId": "c1c2e33c-3c81-447f-d092-a8b84ead5aec"
      },
      "source": [
        "from sklearn.ensemble import AdaBoostClassifier\n",
        "from sklearn.ensemble import GradientBoostingClassifier\n",
        "\n",
        "\n",
        "models = {}\n",
        "\n",
        "models['log'] = LogisticRegression()\n",
        "models['det'] = DecisionTreeClassifier()\n",
        "models['raf'] = RandomForestClassifier()\n",
        "models['xgb'] = XGBClassifier()\n",
        "\n",
        "\n",
        "for name, model in models.items():\n",
        "    model.fit(X_train, y_train)\n",
        "    y_pred = model.predict(X_test)\n",
        "    accuracy = accuracy_score(y_test,y_pred)\n",
        "    print(name, accuracy)"
      ],
      "execution_count": null,
      "outputs": [
        {
          "output_type": "stream",
          "name": "stdout",
          "text": [
            "log 0.989851892484915\n",
            "det 0.9871091607240812\n",
            "raf 0.9883433900164564\n",
            "xgb 0.989851892484915\n"
          ]
        }
      ]
    },
    {
      "cell_type": "code",
      "metadata": {
        "colab": {
          "base_uri": "https://localhost:8080/"
        },
        "id": "-hrkcpS78kDg",
        "outputId": "33330d8f-043f-4434-d571-960ae1d392f5"
      },
      "source": [
        "for name, model in models.items():\n",
        "    model.fit(X_train_over, y_train_over)\n",
        "    y_pred = model.predict(X_test_over)\n",
        "    accuracy = accuracy_score(y_test_over,y_pred)\n",
        "    print(name, accuracy)"
      ],
      "execution_count": null,
      "outputs": [
        {
          "output_type": "stream",
          "name": "stdout",
          "text": [
            "log 0.46404821280133\n",
            "det 0.8605569409808811\n",
            "raf 0.8299390412856748\n",
            "xgb 0.8706705458575783\n"
          ]
        }
      ]
    },
    {
      "cell_type": "code",
      "metadata": {
        "colab": {
          "base_uri": "https://localhost:8080/"
        },
        "id": "cnVb0Uvb9JHE",
        "outputId": "0cb979ed-565f-485a-b1d3-4d29e8367706"
      },
      "source": [
        "#범위내의 정확도를 가진 모델의 성능 평가\n",
        "# 정확도의 역설을 피하기 위해\n",
        "\n",
        "for name, model in models.items():\n",
        "    model.fit(X_train_over, y_train_over)\n",
        "    y_pred = model.predict(X_test_over)\n",
        "    classification = classification_report(y_test_over,y_pred)\n",
        "    print(name, classification)\n",
        "\n",
        "#정확도가 어떻게 모델 선택을 오도할 수 있는지 확인하십시오. \n",
        "#개인을 가능한 채무 불이행자로 분류할 수 있는 유일한 사람(리콜)은 KNN(18%), Beysian(4%), Ada(11%), Gda(18%)였습니다. \n",
        "#즉, 제안된 기반의 전체 채무 불이행자 수 중 4개 모델만 이 분류에 성공했습니다. \n",
        "# 나머지는 모두 채무불이행자만을 예측할 수 있었으며, 이는 본 연구의 분석 목적이 아니다.\n",
        "#"
      ],
      "execution_count": null,
      "outputs": [
        {
          "output_type": "stream",
          "name": "stdout",
          "text": [
            "log               precision    recall  f1-score   support\n",
            "\n",
            "           0       0.47      0.52      0.49      7218\n",
            "           1       0.46      0.40      0.43      7218\n",
            "\n",
            "    accuracy                           0.46     14436\n",
            "   macro avg       0.46      0.46      0.46     14436\n",
            "weighted avg       0.46      0.46      0.46     14436\n",
            "\n",
            "det               precision    recall  f1-score   support\n",
            "\n",
            "           0       0.78      0.99      0.88      7218\n",
            "           1       0.99      0.73      0.84      7218\n",
            "\n",
            "    accuracy                           0.86     14436\n",
            "   macro avg       0.89      0.86      0.86     14436\n",
            "weighted avg       0.89      0.86      0.86     14436\n",
            "\n",
            "raf               precision    recall  f1-score   support\n",
            "\n",
            "           0       0.75      0.99      0.86      7218\n",
            "           1       0.99      0.67      0.80      7218\n",
            "\n",
            "    accuracy                           0.83     14436\n",
            "   macro avg       0.87      0.83      0.83     14436\n",
            "weighted avg       0.87      0.83      0.83     14436\n",
            "\n",
            "xgb               precision    recall  f1-score   support\n",
            "\n",
            "           0       0.81      0.98      0.88      7218\n",
            "           1       0.97      0.77      0.86      7218\n",
            "\n",
            "    accuracy                           0.87     14436\n",
            "   macro avg       0.89      0.87      0.87     14436\n",
            "weighted avg       0.89      0.87      0.87     14436\n",
            "\n"
          ]
        }
      ]
    },
    {
      "cell_type": "code",
      "metadata": {
        "id": "L4zFHaELyMvY",
        "colab": {
          "base_uri": "https://localhost:8080/",
          "height": 89
        },
        "outputId": "06cdd7ee-079a-40ac-8cf6-3b40d9bc8cce"
      },
      "source": [
        "# 모델의 재현율을 분석하는 것이 얼마나 중요할까?\n",
        "\n",
        "# 신용 카드 회사는 고객의 신용 카드 발급 여부를 결정할때에는, \n",
        "# 정확성만 분석하면 안될 것이다. 실제로 신용 분석에서 정확도는 매우 작은 부분 중 하나일 것.\n",
        "# 기관의 내부 여건상 금융 상품의 활용에는 어느 정도의 리스크가 존재하고, \n",
        "# 회사의 기준에 따라 신청자의 신용 카드 발급 여부는 매우 달라질 수 있다.\n",
        "# 그렇기에 연체 또는 부채 상환하지 않을 확률을 아는 것은 매우 중요할 것 이다.\n",
        "# 예를 들어 은행 X는 채무 불이행 가능성이 30% 이상인 고객에게는 \n",
        "# 신용 카드한도를 늘리지 않을 것입니다.\n",
        "# 누가 신용을 받을지 여부를 결정할 때 모델의 최상의 성능을 제공하는 것은\n",
        "# 정학성이 아니라, ROC, AUC에 의해 구해지는 컷으로 기준을 잡아야 합니다.\n",
        "# 이를 위해 AUC를 구해보자.\n",
        "'''\n",
        "분류문제에서 모델을 올바르게 평가하기 위해서는 정확도 외에도 정밀도, 재현율 을 잘 이해하고 사용해야 한다는 것을\n",
        "알았습니다. 특히 각 범주를 예측하는 기준이 되는 임계값의 위치에 따라 정밀도나 재현율이 달라지기 때문에 문제의 상\n",
        "황에 따라 적절한 임계값을 선택할 필요성이 있습니다. 이진 분류문제에서는 ROC curve와 AUC 점수를 잘 활용하면 좋은\n",
        "결과를 만들어낼 수 있을 것 입니다.\n",
        "'''\n"
      ],
      "execution_count": null,
      "outputs": [
        {
          "output_type": "execute_result",
          "data": {
            "application/vnd.google.colaboratory.intrinsic+json": {
              "type": "string"
            },
            "text/plain": [
              "'\\n분류문제에서 모델을 올바르게 평가하기 위해서는 정확도 외에도 정밀도, 재현율 을 잘 이해하고 사용해야 한다는 것을\\n알았습니다. 특히 각 범주를 예측하는 기준이 되는 임계값의 위치에 따라 정밀도나 재현율이 달라지기 때문에 문제의 상\\n황에 따라 적절한 임계값을 선택할 필요성이 있습니다. 이진 분류문제에서는 ROC curve와 AUC 점수를 잘 활용하면 좋은\\n결과를 만들어낼 수 있을 것 입니다.\\n'"
            ]
          },
          "metadata": {},
          "execution_count": 78
        }
      ]
    }
  ]
}